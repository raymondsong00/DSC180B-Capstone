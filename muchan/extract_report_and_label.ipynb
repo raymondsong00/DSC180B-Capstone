{
 "cells": [
  {
   "cell_type": "code",
   "execution_count": 1,
   "metadata": {},
   "outputs": [],
   "source": [
    "import csv\n",
    "import json\n",
    "import pandas as pd"
   ]
  },
  {
   "cell_type": "code",
   "execution_count": 2,
   "metadata": {},
   "outputs": [],
   "source": [
    "# with open('testset_report_only.csv', 'w', encoding='utf-8') as file:\n",
    "#     with open('testset_answer_finding_impression.jsonl', 'r') as read_file:\n",
    "#         for line in read_file:\n",
    "#             # print(line)\n",
    "#             json_data = json.loads(line)\n",
    "#             # print(json_data['text'])\n",
    "#             # break\n",
    "#             string = json_data['text']\n",
    "#             file.write(f'\"{string}\"' + '\\n')"
   ]
  },
  {
   "cell_type": "code",
   "execution_count": 3,
   "metadata": {},
   "outputs": [
    {
     "data": {
      "text/html": [
       "<div>\n",
       "<style scoped>\n",
       "    .dataframe tbody tr th:only-of-type {\n",
       "        vertical-align: middle;\n",
       "    }\n",
       "\n",
       "    .dataframe tbody tr th {\n",
       "        vertical-align: top;\n",
       "    }\n",
       "\n",
       "    .dataframe thead th {\n",
       "        text-align: right;\n",
       "    }\n",
       "</style>\n",
       "<table border=\"1\" class=\"dataframe\">\n",
       "  <thead>\n",
       "    <tr style=\"text-align: right;\">\n",
       "      <th></th>\n",
       "      <th>0</th>\n",
       "    </tr>\n",
       "  </thead>\n",
       "  <tbody>\n",
       "    <tr>\n",
       "      <th>0</th>\n",
       "      <td>FINDINGS: See impression.             Signed b...</td>\n",
       "    </tr>\n",
       "    <tr>\n",
       "      <th>1</th>\n",
       "      <td>FINDINGS: See impression.             Signed b...</td>\n",
       "    </tr>\n",
       "    <tr>\n",
       "      <th>2</th>\n",
       "      <td>FINDINGS: See impression.\\n\\n\\n\\n\\n*\\n\\nSigned...</td>\n",
       "    </tr>\n",
       "    <tr>\n",
       "      <th>3</th>\n",
       "      <td>FINDINGS: See IMPRESSION.\\n\\n\\n\\n\\n*\\n\\nSigned...</td>\n",
       "    </tr>\n",
       "    <tr>\n",
       "      <th>4</th>\n",
       "      <td>FINDINGS: See impression             Signed by...</td>\n",
       "    </tr>\n",
       "    <tr>\n",
       "      <th>...</th>\n",
       "      <td>...</td>\n",
       "    </tr>\n",
       "    <tr>\n",
       "      <th>2242</th>\n",
       "      <td>FINDINGS: See impression.\\n\\n\\n\\n\\n*\\n\\nSigned...</td>\n",
       "    </tr>\n",
       "    <tr>\n",
       "      <th>2243</th>\n",
       "      <td>FINDINGS: *\\n\\nLines and Tubes: None\\n*\\n\\nMed...</td>\n",
       "    </tr>\n",
       "    <tr>\n",
       "      <th>2244</th>\n",
       "      <td>FINDINGS: Lines and Tubes: None  Mediastinum: ...</td>\n",
       "    </tr>\n",
       "    <tr>\n",
       "      <th>2245</th>\n",
       "      <td>FINDINGS: Devices, lines and Tubes: None    Me...</td>\n",
       "    </tr>\n",
       "    <tr>\n",
       "      <th>2246</th>\n",
       "      <td>FINDINGS: Lines and Tubes: None  Mediastinum: ...</td>\n",
       "    </tr>\n",
       "  </tbody>\n",
       "</table>\n",
       "<p>2247 rows × 1 columns</p>\n",
       "</div>"
      ],
      "text/plain": [
       "                                                      0\n",
       "0     FINDINGS: See impression.             Signed b...\n",
       "1     FINDINGS: See impression.             Signed b...\n",
       "2     FINDINGS: See impression.\\n\\n\\n\\n\\n*\\n\\nSigned...\n",
       "3     FINDINGS: See IMPRESSION.\\n\\n\\n\\n\\n*\\n\\nSigned...\n",
       "4     FINDINGS: See impression             Signed by...\n",
       "...                                                 ...\n",
       "2242  FINDINGS: See impression.\\n\\n\\n\\n\\n*\\n\\nSigned...\n",
       "2243  FINDINGS: *\\n\\nLines and Tubes: None\\n*\\n\\nMed...\n",
       "2244  FINDINGS: Lines and Tubes: None  Mediastinum: ...\n",
       "2245  FINDINGS: Devices, lines and Tubes: None    Me...\n",
       "2246  FINDINGS: Lines and Tubes: None  Mediastinum: ...\n",
       "\n",
       "[2247 rows x 1 columns]"
      ]
     },
     "execution_count": 3,
     "metadata": {},
     "output_type": "execute_result"
    }
   ],
   "source": [
    "pd.read_csv('testset_report_only.csv', header=None)"
   ]
  },
  {
   "cell_type": "code",
   "execution_count": 4,
   "metadata": {},
   "outputs": [
    {
     "name": "stdout",
     "output_type": "stream",
     "text": [
      "FINDINGS: See impressionIMPRESSION: No pneumothorax or pleural effusion. No focal consolidation. The cardiomediastinal silhouette is unchanged. No acute osseous abnormality.\n"
     ]
    }
   ],
   "source": [
    "labeled_reports = pd.read_csv('testset_report_label.csv')\n",
    "inspect = labeled_reports[labeled_reports['Reports'].str.contains('no')].loc[8,:]\n",
    "print(inspect['Reports'])"
   ]
  },
  {
   "cell_type": "code",
   "execution_count": 5,
   "metadata": {},
   "outputs": [
    {
     "data": {
      "text/plain": [
       "Reports                       FINDINGS: See impressionIMPRESSION: No pneumot...\n",
       "No Finding                                                                  NaN\n",
       "Enlarged Cardiomediastinum                                                 -1.0\n",
       "Cardiomegaly                                                                NaN\n",
       "Lung Lesion                                                                 NaN\n",
       "Lung Opacity                                                                NaN\n",
       "Edema                                                                       NaN\n",
       "Consolidation                                                               0.0\n",
       "Pneumonia                                                                   NaN\n",
       "Atelectasis                                                                 NaN\n",
       "Pneumothorax                                                                0.0\n",
       "Pleural Effusion                                                            0.0\n",
       "Pleural Other                                                               NaN\n",
       "Fracture                                                                    NaN\n",
       "Support Devices                                                             NaN\n",
       "Name: 8, dtype: object"
      ]
     },
     "execution_count": 5,
     "metadata": {},
     "output_type": "execute_result"
    }
   ],
   "source": [
    "inspect"
   ]
  },
  {
   "cell_type": "code",
   "execution_count": null,
   "metadata": {},
   "outputs": [],
   "source": []
  }
 ],
 "metadata": {
  "kernelspec": {
   "display_name": "llava_123",
   "language": "python",
   "name": "python3"
  },
  "language_info": {
   "codemirror_mode": {
    "name": "ipython",
    "version": 3
   },
   "file_extension": ".py",
   "mimetype": "text/x-python",
   "name": "python",
   "nbconvert_exporter": "python",
   "pygments_lexer": "ipython3",
   "version": "3.11.5"
  }
 },
 "nbformat": 4,
 "nbformat_minor": 2
}
