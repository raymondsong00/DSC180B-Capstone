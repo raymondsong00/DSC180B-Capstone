{
 "cells": [
  {
   "cell_type": "markdown",
   "metadata": {},
   "source": [
    "## This Notebook is Meant to Compare the following inference results:\n",
    "* 022924: Finetuned on data with concurrent results and signed by not filtered out yet. Also some of Weihe's reports did not have a FINDINGS: and IMPRESSION: label. Question asked included the patient, author, clinical history information. Asked the result to be very specific for the author.\n",
    "* 030224: (based on 022924 model) same finetune as above, but created a cleaner inference dataset with the cleaning described above performed. Question was... (fill in question here)\n",
    "* 030324: new fine tune, just asked llava to be more explicit given the image. no clinical history, author, or any extra information given in prompt to test the abilities of llava to discern the image. Two inferences performed: the first being with the clinical history, author and patient information and the other being the exact same as the fine tuned prompt without all the extra information for the LLM to base its answer off of to determine whether the first inference performed poorly due to a lack of generalization of the model to new prompts (basically seeing if we need more diverse prompts in a fine tune), or if the vision encoder that comes with llava is just not that good at reading x-rays, so that we need to sub out the encoder if we actually want this LLM to perform (which will require much more compute I'm sure and probably a bigger version of LLaVA). \n",
    "\n",
    "In summary, we have two recent checkpoints on the cleanest data (02-26.5-24 might have cleaner data, too). We might need just one more finetune to finalize the results, so that we can compare the 03-03-24 model with a later March model for poster, paper results. Each of these checkpoints have two sets of inference where one has the original question asked and the other has a different question asked, testing the ability of the model to generalize to new questions. (still should pull it up to the terminal and compare in a converstational setting--this is the final test of the model, imo)."
   ]
  },
  {
   "cell_type": "code",
   "execution_count": null,
   "metadata": {},
   "outputs": [],
   "source": []
  },
  {
   "cell_type": "markdown",
   "metadata": {},
   "source": [
    "ALSO: need to classify the new inference datasets to create confusion tables!"
   ]
  },
  {
   "cell_type": "code",
   "execution_count": 1,
   "metadata": {},
   "outputs": [],
   "source": [
    "from bart_eval import * \n",
    "from eval_script import * "
   ]
  },
  {
   "cell_type": "markdown",
   "metadata": {},
   "source": [
    "Get the exact model prompts (filtered them out of test inference when I shouldn't have):"
   ]
  },
  {
   "cell_type": "code",
   "execution_count": 2,
   "metadata": {},
   "outputs": [
    {
     "name": "stdout",
     "output_type": "stream",
     "text": [
      "[{'from': 'human', 'value': 'AUTHOR: Yen, Andrew \\nCLINICAL HISTORY: S/p placement of PICC\\nCONTEXT: Outpatient\\nAGE: 58\\nSEX: Male\\nBased on AUTHOR and CLINICAL HISTORY, suppose you were a radiologist on X-RAY,  could you provide a detailed report from this chest X-ray?'}, {'from': 'gpt', 'value': 'FINDINGS:\\nLines and Tubes: Left arm PICC with the tip projecting to mid-lower superior vena cava.  Mediastinum: The cardiomediastinal silhouette is unchanged.  Lungs: Improvement in bilateral apical heterogenous opacities.  Pleura: No pneumothorax or pleural effusion.  Bones and soft tissues: Unchanged. Surgical clips overlie right and left upper abdomen.    CONCURRENT SUPERVISION:  I have reviewed the images and agree with the resident interpretation.           Preliminary created by: Alla, Juliet\\n\\nIMPRESSION: Left arm PICC with tip projecting to the mid-lower superior vena cava.    No acute cardiopulmonary findings.'}]\n"
     ]
    }
   ],
   "source": [
    "path = '../raymond/'\n",
    "\n",
    "# load a prompt from the 022924 fine tune training set\n",
    "print(pd.read_json(path + '022924patient_finding_impression.json')['conversations'].iloc[0])"
   ]
  },
  {
   "cell_type": "code",
   "execution_count": 3,
   "metadata": {},
   "outputs": [
    {
     "name": "stdout",
     "output_type": "stream",
     "text": [
      "AUTHOR: Jacobs, Kathleen \n",
      "CLINICAL HISTORY: Chest pain\n",
      "CONTEXT: Outpatient\n",
      "AGE: 69\n",
      "SEX: Female\n",
      "Based on AUTHOR and CLINICAL HISTORY, suppose you were a radiologist on X-RAY,  could you provide a detailed report from this chest X-ray?\n"
     ]
    }
   ],
   "source": [
    "# 022924 inference question (aligned with fine tune)\n",
    "print(pd.read_json(path + '022924_test_answers.jsonl', lines=True)['prompt'].iloc[0])"
   ]
  },
  {
   "cell_type": "code",
   "execution_count": 4,
   "metadata": {},
   "outputs": [
    {
     "name": "stdout",
     "output_type": "stream",
     "text": [
      "AUTHOR: Jacobs, Kathleen \n",
      "CLINICAL HISTORY: Chest pain\n",
      "CONTEXT: Outpatient\n",
      "AGE: 69\n",
      "SEX: Female\n",
      "Provide a detailed report given the chest X-RAY. Do not compare with prior X-RAY, only describe what you see in the given xray.\n"
     ]
    }
   ],
   "source": [
    "# 030224 inference (on 022924 fine tune), which still gives the patient information\n",
    "# but asks a different question from a the one it was trained on \n",
    "print(pd.read_json(path + '030224_test_answers.jsonl', lines=True)['prompt'].iloc[0])"
   ]
  },
  {
   "cell_type": "code",
   "execution_count": 5,
   "metadata": {},
   "outputs": [
    {
     "name": "stdout",
     "output_type": "stream",
     "text": [
      "[{'from': 'human', 'value': 'Write a report for the given chest x-ray. It should contain a clear findings and impression section.  Be explicit for any abnormalities or normal findings.'}, {'from': 'gpt', 'value': 'FINDINGS:\\nLines and Tubes: Left arm PICC with the tip projecting to mid-lower superior vena cava.  Mediastinum: The cardiomediastinal silhouette is unchanged.  Lungs: Improvement in bilateral apical heterogenous opacities.  Pleura: No pneumothorax or pleural effusion.  Bones and soft tissues: Unchanged. Surgical clips overlie right and left upper abdomen.    IMPRESSION: Left arm PICC with tip projecting to the mid-lower superior vena cava.    No acute cardiopulmonary findings.'}]\n"
     ]
    }
   ],
   "source": [
    "# load a prompt from the 030324 fine tune training set \n",
    "print(pd.read_json(path + '030324patient_finding_impression.json')['conversations'].iloc[0])"
   ]
  },
  {
   "cell_type": "code",
   "execution_count": 6,
   "metadata": {},
   "outputs": [
    {
     "name": "stdout",
     "output_type": "stream",
     "text": [
      "AUTHOR: Jacobs, Kathleen \n",
      "CLINICAL HISTORY: Chest pain\n",
      "CONTEXT: Outpatient\n",
      "AGE: 69\n",
      "SEX: FemaleWrite a report for the given chest x-ray. It should contain a clear findings and impression section.  Be explicit for any abnormalities or normal findings.\n"
     ]
    }
   ],
   "source": [
    "# This is for inference on the 030324 finetune, but gives context, but asks the same question\n",
    "print(pd.read_json(path + '030324_test_answers.jsonl', lines=True)['prompt'].iloc[0])"
   ]
  },
  {
   "cell_type": "code",
   "execution_count": 7,
   "metadata": {},
   "outputs": [
    {
     "name": "stdout",
     "output_type": "stream",
     "text": [
      "Write a report for the given chest x-ray. It should contain a clear findings and impression section.  Be explicit for any abnormalities or normal findings.\n"
     ]
    }
   ],
   "source": [
    "# inference on 030324 model but without the information just to see if anything is different\n",
    "print(pd.read_json(path + '030324_test_answers01.jsonl', lines=True)['prompt'].iloc[0])"
   ]
  },
  {
   "cell_type": "markdown",
   "metadata": {},
   "source": [
    "#### Load in test inferences and make comparisons"
   ]
  },
  {
   "cell_type": "code",
   "execution_count": 8,
   "metadata": {},
   "outputs": [],
   "source": [
    "v1 = pd.read_csv('02-29-24/data/test_inference.csv')\n",
    "v2 = pd.read_csv('03-02-24/data/test_inference.csv')\n",
    "v3 = pd.read_csv('03-03-24/data/test_inference.csv')\n",
    "v4 = pd.read_csv('03-03-24-01/data/test_inference.csv')"
   ]
  },
  {
   "cell_type": "code",
   "execution_count": 9,
   "metadata": {},
   "outputs": [
    {
     "data": {
      "image/png": "[encoded data removed]",
      "text/plain": [
       "<Figure size 640x480 with 1 Axes>"
      ]
     },
     "metadata": {},
     "output_type": "display_data"
    }
   ],
   "source": [
    "plot_sim_scores(v1);"
   ]
  },
  {
   "cell_type": "code",
   "execution_count": 10,
   "metadata": {},
   "outputs": [
    {
     "data": {
      "image/png": "[encoded data removed]",
      "text/plain": [
       "<Figure size 640x480 with 1 Axes>"
      ]
     },
     "metadata": {},
     "output_type": "display_data"
    }
   ],
   "source": [
    "plot_sim_scores(v2);"
   ]
  },
  {
   "cell_type": "code",
   "execution_count": 11,
   "metadata": {},
   "outputs": [
    {
     "data": {
      "image/png": "[encoded data removed]",
      "text/plain": [
       "<Figure size 640x480 with 1 Axes>"
      ]
     },
     "metadata": {},
     "output_type": "display_data"
    }
   ],
   "source": [
    "plot_sim_scores(v3);"
   ]
  },
  {
   "cell_type": "code",
   "execution_count": 12,
   "metadata": {},
   "outputs": [
    {
     "data": {
      "image/png": "[encoded data removed]",
      "text/plain": [
       "<Figure size 640x480 with 1 Axes>"
      ]
     },
     "metadata": {},
     "output_type": "display_data"
    }
   ],
   "source": [
    "plot_sim_scores(v4);"
   ]
  },
  {
   "cell_type": "code",
   "execution_count": 13,
   "metadata": {},
   "outputs": [
    {
     "data": {
      "text/html": [
       "<div>\n",
       "<style scoped>\n",
       "    .dataframe tbody tr th:only-of-type {\n",
       "        vertical-align: middle;\n",
       "    }\n",
       "\n",
       "    .dataframe tbody tr th {\n",
       "        vertical-align: top;\n",
       "    }\n",
       "\n",
       "    .dataframe thead th {\n",
       "        text-align: right;\n",
       "    }\n",
       "</style>\n",
       "<table border=\"1\" class=\"dataframe\">\n",
       "  <thead>\n",
       "    <tr style=\"text-align: right;\">\n",
       "      <th></th>\n",
       "      <th>id</th>\n",
       "      <th>phonetic_id</th>\n",
       "      <th>author</th>\n",
       "      <th>llava_findings</th>\n",
       "      <th>llava_impression</th>\n",
       "      <th>llava_report</th>\n",
       "      <th>radiologist_report</th>\n",
       "      <th>radiologist_findings</th>\n",
       "      <th>radiologist_impression</th>\n",
       "      <th>similarity</th>\n",
       "      <th>impression_similarity</th>\n",
       "      <th>findings_similarity</th>\n",
       "      <th>is_si_l</th>\n",
       "      <th>is_si_r</th>\n",
       "      <th>lf_len</th>\n",
       "      <th>li_len</th>\n",
       "      <th>rf_len</th>\n",
       "      <th>ri_len</th>\n",
       "    </tr>\n",
       "  </thead>\n",
       "  <tbody>\n",
       "    <tr>\n",
       "      <th>0</th>\n",
       "      <td>54059849</td>\n",
       "      <td>Abifel</td>\n",
       "      <td>Jacobs, Kathleen</td>\n",
       "      <td>NaN</td>\n",
       "      <td>IMPRESSION: No acute findings.</td>\n",
       "      <td>Lungs are well expanded. Lungs are clear. No p...</td>\n",
       "      <td>FINDINGS:\\nLungs are well expanded and clear. ...</td>\n",
       "      <td>FINDINGS:\\nLungs are well expanded and clear. ...</td>\n",
       "      <td>IMPRESSION: No acute findings.</td>\n",
       "      <td>0.976522</td>\n",
       "      <td>1.000000</td>\n",
       "      <td>-0.005850</td>\n",
       "      <td>True</td>\n",
       "      <td>False</td>\n",
       "      <td>0</td>\n",
       "      <td>30</td>\n",
       "      <td>184</td>\n",
       "      <td>30</td>\n",
       "    </tr>\n",
       "    <tr>\n",
       "      <th>1</th>\n",
       "      <td>53428634</td>\n",
       "      <td>Aburik</td>\n",
       "      <td>Hahn, Lewis</td>\n",
       "      <td>FINDINGS:\\nLines and Tubes: Interval placement...</td>\n",
       "      <td>IMPRESSION: Right upper extremity PICC termina...</td>\n",
       "      <td>FINDINGS:\\nLines and Tubes: Interval placement...</td>\n",
       "      <td>FINDINGS:\\nLines and Tubes: Right upper extrem...</td>\n",
       "      <td>FINDINGS:\\nLines and Tubes: Right upper extrem...</td>\n",
       "      <td>IMPRESSION: Right upper extremity PICC termina...</td>\n",
       "      <td>0.802228</td>\n",
       "      <td>0.880665</td>\n",
       "      <td>0.939317</td>\n",
       "      <td>False</td>\n",
       "      <td>False</td>\n",
       "      <td>292</td>\n",
       "      <td>67</td>\n",
       "      <td>328</td>\n",
       "      <td>86</td>\n",
       "    </tr>\n",
       "    <tr>\n",
       "      <th>2</th>\n",
       "      <td>53439132</td>\n",
       "      <td>Achoroos</td>\n",
       "      <td>Smitaman, Edward</td>\n",
       "      <td>FINDINGS:\\nPlease see Impression.\\n\\n</td>\n",
       "      <td>IMPRESSION: Redemonstration of a left-sided AI...</td>\n",
       "      <td>FINDINGS:\\nPlease see Impression.\\n\\nIMPRESSIO...</td>\n",
       "      <td>FINDINGS:\\nLines and Tubes: None  Mediastinum:...</td>\n",
       "      <td>FINDINGS:\\nLines and Tubes: None  Mediastinum:...</td>\n",
       "      <td>IMPRESSION: No acute pulmonary findings.</td>\n",
       "      <td>0.447024</td>\n",
       "      <td>0.658687</td>\n",
       "      <td>0.252595</td>\n",
       "      <td>True</td>\n",
       "      <td>False</td>\n",
       "      <td>34</td>\n",
       "      <td>221</td>\n",
       "      <td>325</td>\n",
       "      <td>40</td>\n",
       "    </tr>\n",
       "    <tr>\n",
       "      <th>3</th>\n",
       "      <td>50219723</td>\n",
       "      <td>Ackoofdek</td>\n",
       "      <td>Wyatt, Alvin</td>\n",
       "      <td>FINDINGS:\\nSee impression\\n\\n</td>\n",
       "      <td>IMPRESSION: No significant change from 10/22/2...</td>\n",
       "      <td>FINDINGS:\\nSee impression\\n\\nIMPRESSION: No si...</td>\n",
       "      <td>FINDINGS:\\nSee impression\\n\\nIMPRESSION: Exam ...</td>\n",
       "      <td>FINDINGS:\\nSee impression\\n\\n</td>\n",
       "      <td>IMPRESSION: Exam is somewhat limited by patien...</td>\n",
       "      <td>0.353085</td>\n",
       "      <td>0.586219</td>\n",
       "      <td>1.000000</td>\n",
       "      <td>True</td>\n",
       "      <td>True</td>\n",
       "      <td>26</td>\n",
       "      <td>88</td>\n",
       "      <td>26</td>\n",
       "      <td>325</td>\n",
       "    </tr>\n",
       "    <tr>\n",
       "      <th>4</th>\n",
       "      <td>52165792</td>\n",
       "      <td>Adefoup</td>\n",
       "      <td>Weihe, Elizabeth</td>\n",
       "      <td>FINDINGS:/:   \\nThe cardiac silhouette and med...</td>\n",
       "      <td>NaN</td>\n",
       "      <td>FINDINGS:/:   \\nThe cardiac silhouette and med...</td>\n",
       "      <td>FINDINGS:/:   \\nNo evidence for focal pneumoni...</td>\n",
       "      <td>FINDINGS:/:   \\nNo evidence for focal pneumoni...</td>\n",
       "      <td>NaN</td>\n",
       "      <td>0.621795</td>\n",
       "      <td>1.000000</td>\n",
       "      <td>0.883026</td>\n",
       "      <td>False</td>\n",
       "      <td>False</td>\n",
       "      <td>223</td>\n",
       "      <td>0</td>\n",
       "      <td>332</td>\n",
       "      <td>0</td>\n",
       "    </tr>\n",
       "  </tbody>\n",
       "</table>\n",
       "</div>"
      ],
      "text/plain": [
       "         id phonetic_id             author  \\\n",
       "0  54059849      Abifel  Jacobs, Kathleen    \n",
       "1  53428634      Aburik       Hahn, Lewis    \n",
       "2  53439132    Achoroos  Smitaman, Edward    \n",
       "3  50219723   Ackoofdek      Wyatt, Alvin    \n",
       "4  52165792     Adefoup  Weihe, Elizabeth    \n",
       "\n",
       "                                      llava_findings  \\\n",
       "0                                                NaN   \n",
       "1  FINDINGS:\\nLines and Tubes: Interval placement...   \n",
       "2              FINDINGS:\\nPlease see Impression.\\n\\n   \n",
       "3                      FINDINGS:\\nSee impression\\n\\n   \n",
       "4  FINDINGS:/:   \\nThe cardiac silhouette and med...   \n",
       "\n",
       "                                    llava_impression  \\\n",
       "0                     IMPRESSION: No acute findings.   \n",
       "1  IMPRESSION: Right upper extremity PICC termina...   \n",
       "2  IMPRESSION: Redemonstration of a left-sided AI...   \n",
       "3  IMPRESSION: No significant change from 10/22/2...   \n",
       "4                                                NaN   \n",
       "\n",
       "                                        llava_report  \\\n",
       "0  Lungs are well expanded. Lungs are clear. No p...   \n",
       "1  FINDINGS:\\nLines and Tubes: Interval placement...   \n",
       "2  FINDINGS:\\nPlease see Impression.\\n\\nIMPRESSIO...   \n",
       "3  FINDINGS:\\nSee impression\\n\\nIMPRESSION: No si...   \n",
       "4  FINDINGS:/:   \\nThe cardiac silhouette and med...   \n",
       "\n",
       "                                  radiologist_report  \\\n",
       "0  FINDINGS:\\nLungs are well expanded and clear. ...   \n",
       "1  FINDINGS:\\nLines and Tubes: Right upper extrem...   \n",
       "2  FINDINGS:\\nLines and Tubes: None  Mediastinum:...   \n",
       "3  FINDINGS:\\nSee impression\\n\\nIMPRESSION: Exam ...   \n",
       "4  FINDINGS:/:   \\nNo evidence for focal pneumoni...   \n",
       "\n",
       "                                radiologist_findings  \\\n",
       "0  FINDINGS:\\nLungs are well expanded and clear. ...   \n",
       "1  FINDINGS:\\nLines and Tubes: Right upper extrem...   \n",
       "2  FINDINGS:\\nLines and Tubes: None  Mediastinum:...   \n",
       "3                      FINDINGS:\\nSee impression\\n\\n   \n",
       "4  FINDINGS:/:   \\nNo evidence for focal pneumoni...   \n",
       "\n",
       "                              radiologist_impression  similarity  \\\n",
       "0                     IMPRESSION: No acute findings.    0.976522   \n",
       "1  IMPRESSION: Right upper extremity PICC termina...    0.802228   \n",
       "2           IMPRESSION: No acute pulmonary findings.    0.447024   \n",
       "3  IMPRESSION: Exam is somewhat limited by patien...    0.353085   \n",
       "4                                                NaN    0.621795   \n",
       "\n",
       "   impression_similarity  findings_similarity  is_si_l  is_si_r  lf_len  \\\n",
       "0               1.000000            -0.005850     True    False       0   \n",
       "1               0.880665             0.939317    False    False     292   \n",
       "2               0.658687             0.252595     True    False      34   \n",
       "3               0.586219             1.000000     True     True      26   \n",
       "4               1.000000             0.883026    False    False     223   \n",
       "\n",
       "   li_len  rf_len  ri_len  \n",
       "0      30     184      30  \n",
       "1      67     328      86  \n",
       "2     221     325      40  \n",
       "3      88      26     325  \n",
       "4       0     332       0  "
      ]
     },
     "execution_count": 13,
     "metadata": {},
     "output_type": "execute_result"
    }
   ],
   "source": [
    "v1.head()"
   ]
  },
  {
   "cell_type": "code",
   "execution_count": 14,
   "metadata": {},
   "outputs": [
    {
     "name": "stderr",
     "output_type": "stream",
     "text": [
      "/home/llm-hackathon/enter/envs/datalite_env/lib/python3.10/site-packages/torch/_utils.py:831: UserWarning: TypedStorage is deprecated. It will be removed in the future and UntypedStorage will be the only storage class. This should only matter to you if you are using storages directly.  To access UntypedStorage directly, use tensor.untyped_storage() instead of tensor.storage()\n",
      "  return self.fget.__get__(instance, owner)()\n"
     ]
    }
   ],
   "source": [
    "from transformers import pipeline\n",
    "classifier = pipeline(\"zero-shot-classification\", model=\"valhalla/distilbart-mnli-12-3\", multilabel=True)"
   ]
  },
  {
   "cell_type": "code",
   "execution_count": 69,
   "metadata": {},
   "outputs": [
    {
     "name": "stdout",
     "output_type": "stream",
     "text": [
      "FINDINGS:\n",
      "Lines and Tubes: None\n",
      "Mediastinum: The cardiomediastinal silhouette is enlarged but unchanged. There is a large pericardial effusion. No lymphadenopathy is appreciated.\n",
      "Lungs: Multiple pulmonary nodules are unchanged. Left mid and lower lung consolidation is unchanged. There is right basilar opacity. Perihilar opacity is present\n",
      "Pleura: Left effusion is present\n",
      "Bones and soft tissues: Unchanged\n",
      "\n",
      "IMPRESSION: Left mid and lower lung pneumonia. Pulmonary metastasis\n"
     ]
    }
   ],
   "source": [
    "report =  v1['radiologist_report'].iloc[17]\n",
    "print(report)"
   ]
  },
  {
   "cell_type": "code",
   "execution_count": 70,
   "metadata": {},
   "outputs": [],
   "source": [
    "CANDIDATE_LABELS = ['no pneumonia', 'mild pneumonia', 'moderate pneumonia', 'severe pneumonia']"
   ]
  },
  {
   "cell_type": "code",
   "execution_count": 71,
   "metadata": {},
   "outputs": [
    {
     "data": {
      "text/plain": [
       "{'sequence': 'FINDINGS:\\nLines and Tubes: None\\nMediastinum: The cardiomediastinal silhouette is enlarged but unchanged. There is a large pericardial effusion. No lymphadenopathy is appreciated.\\nLungs: Multiple pulmonary nodules are unchanged. Left mid and lower lung consolidation is unchanged. There is right basilar opacity. Perihilar opacity is present\\nPleura: Left effusion is present\\nBones and soft tissues: Unchanged\\n\\nIMPRESSION: Left mid and lower lung pneumonia. Pulmonary metastasis',\n",
       " 'labels': ['no pneumonia',\n",
       "  'severe pneumonia',\n",
       "  'moderate pneumonia',\n",
       "  'mild pneumonia'],\n",
       " 'scores': [0.3573012948036194,\n",
       "  0.32719895243644714,\n",
       "  0.19817177951335907,\n",
       "  0.11732802540063858]}"
      ]
     },
     "execution_count": 71,
     "metadata": {},
     "output_type": "execute_result"
    }
   ],
   "source": [
    "classifier(report, CANDIDATE_LABELS)"
   ]
  },
  {
   "cell_type": "code",
   "execution_count": null,
   "metadata": {},
   "outputs": [],
   "source": [
    "# NEED TO TRY BIO BART OR BETTER EVAL UG"
   ]
  }
 ],
 "metadata": {
  "kernelspec": {
   "display_name": "datalite_env",
   "language": "python",
   "name": "python3"
  },
  "language_info": {
   "codemirror_mode": {
    "name": "ipython",
    "version": 3
   },
   "file_extension": ".py",
   "mimetype": "text/x-python",
   "name": "python",
   "nbconvert_exporter": "python",
   "pygments_lexer": "ipython3",
   "version": "3.10.13"
  }
 },
 "nbformat": 4,
 "nbformat_minor": 2
}
