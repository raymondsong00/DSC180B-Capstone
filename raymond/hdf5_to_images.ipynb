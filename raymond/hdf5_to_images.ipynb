{
 "cells": [
  {
   "cell_type": "code",
   "execution_count": 2,
   "metadata": {},
   "outputs": [],
   "source": [
    "import h5py\n",
    "import numpy as np\n",
    "import pandas as pd\n",
    "from PIL import Image\n",
    "import matplotlib.pyplot as plt\n",
    "import os\n",
    "from glob import glob\n",
    "from tqdm import tqdm"
   ]
  },
  {
   "cell_type": "code",
   "execution_count": 3,
   "metadata": {},
   "outputs": [],
   "source": [
    "h5_base = \"/data/\"\n",
    "jpg_dest_folder = \"/data/all_cxr_jpg/\"\n",
    "if not os.path.exists(jpg_dest_folder):\n",
    "    os.makedirs(jpg_dest_folder)\n",
    "h5_files = glob(h5_base + '/*.hdf5')"
   ]
  },
  {
   "cell_type": "code",
   "execution_count": 6,
   "metadata": {},
   "outputs": [
    {
     "data": {
      "text/html": [
       "<div>\n",
       "<style scoped>\n",
       "    .dataframe tbody tr th:only-of-type {\n",
       "        vertical-align: middle;\n",
       "    }\n",
       "\n",
       "    .dataframe tbody tr th {\n",
       "        vertical-align: top;\n",
       "    }\n",
       "\n",
       "    .dataframe thead th {\n",
       "        text-align: right;\n",
       "    }\n",
       "</style>\n",
       "<table border=\"1\" class=\"dataframe\">\n",
       "  <thead>\n",
       "    <tr style=\"text-align: right;\">\n",
       "      <th></th>\n",
       "      <th>Study Key</th>\n",
       "      <th>Accession Number</th>\n",
       "      <th>Phonetic ID</th>\n",
       "    </tr>\n",
       "  </thead>\n",
       "  <tbody>\n",
       "    <tr>\n",
       "      <th>0</th>\n",
       "      <td>2.25.202502464261767421468027007730650464986</td>\n",
       "      <td>54173096</td>\n",
       "      <td>Jahire</td>\n",
       "    </tr>\n",
       "    <tr>\n",
       "      <th>1</th>\n",
       "      <td>2.25.220161368548769855356092496684218090572</td>\n",
       "      <td>54316630</td>\n",
       "      <td>Behejee</td>\n",
       "    </tr>\n",
       "    <tr>\n",
       "      <th>2</th>\n",
       "      <td>2.25.105970840676040350164955593094376386679</td>\n",
       "      <td>54166055</td>\n",
       "      <td>Kureyil</td>\n",
       "    </tr>\n",
       "    <tr>\n",
       "      <th>3</th>\n",
       "      <td>2.25.60530620917870643800767150797459760050</td>\n",
       "      <td>54309743</td>\n",
       "      <td>Isbritem</td>\n",
       "    </tr>\n",
       "    <tr>\n",
       "      <th>4</th>\n",
       "      <td>2.25.108489539071837725029506164517778651174</td>\n",
       "      <td>54296790</td>\n",
       "      <td>Queroblo</td>\n",
       "    </tr>\n",
       "  </tbody>\n",
       "</table>\n",
       "</div>"
      ],
      "text/plain": [
       "                                      Study Key Accession Number Phonetic ID\n",
       "0  2.25.202502464261767421468027007730650464986         54173096      Jahire\n",
       "1  2.25.220161368548769855356092496684218090572         54316630     Behejee\n",
       "2  2.25.105970840676040350164955593094376386679         54166055     Kureyil\n",
       "3   2.25.60530620917870643800767150797459760050         54309743    Isbritem\n",
       "4  2.25.108489539071837725029506164517778651174         54296790    Queroblo"
      ]
     },
     "execution_count": 6,
     "metadata": {},
     "output_type": "execute_result"
    }
   ],
   "source": [
    "deid_keys_df = pd.read_csv(\"/data/UCSD_cxr/deid-keys.csv\")\n",
    "deid_keys_df = deid_keys_df.drop_duplicates()\n",
    "deid_keys_df.head()"
   ]
  },
  {
   "cell_type": "code",
   "execution_count": 9,
   "metadata": {},
   "outputs": [],
   "source": [
    "def get_accession_ids(h5_keys):\n",
    "    imgs_keys = pd.DataFrame([key.split(\"__\") for key in h5_keys], columns=[\"Phonetic ID\", \"Study Key\", \"Photo_ID\"])\n",
    "    first_image = imgs_keys[imgs_keys[\"Photo_ID\"] == \"0\"]\n",
    "    merge_study_key = first_image.merge(deid_keys_df[[\"Study Key\", \"Accession Number\"]], left_on=\"Study Key\", right_on=\"Study Key\")\n",
    "    return merge_study_key"
   ]
  },
  {
   "cell_type": "code",
   "execution_count": 10,
   "metadata": {},
   "outputs": [],
   "source": [
    "def convert_h5_to_jpg(image_data, jpg_file_path):\n",
    "    image_data = ((image_data - image_data.min()) / (image_data.ptp()) * 255).astype(np.uint8)\n",
    "    img = Image.fromarray(image_data)\n",
    "    img.save(jpg_file_path)"
   ]
  },
  {
   "cell_type": "code",
   "execution_count": 8,
   "metadata": {},
   "outputs": [
    {
     "name": "stderr",
     "output_type": "stream",
     "text": [
      " 40%|████      | 2/5 [30:35<45:49, 916.53s/it]  /tmp/ipykernel_218059/2928529968.py:2: RuntimeWarning: invalid value encountered in divide\n",
      "  image_data = ((image_data - image_data.min()) / (image_data.ptp()) * 255).astype(np.uint8)\n",
      "/tmp/ipykernel_218059/2928529968.py:2: RuntimeWarning: invalid value encountered in cast\n",
      "  image_data = ((image_data - image_data.min()) / (image_data.ptp()) * 255).astype(np.uint8)\n",
      " 80%|████████  | 4/5 [58:48<14:23, 863.02s/it]"
     ]
    }
   ],
   "source": [
    "for f_name in tqdm(h5_files):\n",
    "    h5_data = h5py.File(f_name)\n",
    "    keys = list(h5_data.keys())\n",
    "    merged_df = get_accession_ids(keys)\n",
    "    for i, (p_id, s_id, photo_id, acc_num) in merged_df.iterrows():\n",
    "        dataset = h5_data[f\"{p_id}__{s_id}__{photo_id}\"][:]\n",
    "        jpg_file_path = os.path.join(jpg_dest_folder, f'{p_id}_{acc_num}.jpg')\n",
    "        convert_h5_to_jpg(dataset, jpg_file_path)"
   ]
  }
 ],
 "metadata": {
  "kernelspec": {
   "display_name": "llava",
   "language": "python",
   "name": "python3"
  },
  "language_info": {
   "codemirror_mode": {
    "name": "ipython",
    "version": 3
   },
   "file_extension": ".py",
   "mimetype": "text/x-python",
   "name": "python",
   "nbconvert_exporter": "python",
   "pygments_lexer": "ipython3",
   "version": "3.11.5"
  }
 },
 "nbformat": 4,
 "nbformat_minor": 2
}
