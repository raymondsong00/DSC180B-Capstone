{
 "cells": [
  {
   "cell_type": "code",
   "execution_count": 1,
   "metadata": {},
   "outputs": [],
   "source": [
    "from glob import glob\n",
    "import pandas as pd\n",
    "import numpy as np\n",
    "import re\n",
    "from tqdm import tqdm\n",
    "import json\n",
    "import random"
   ]
  },
  {
   "cell_type": "code",
   "execution_count": 2,
   "metadata": {},
   "outputs": [],
   "source": [
    "# csv_t2020_df = pd.read_csv('/home/llm-hackathon/Downloads/fixed-data-csv/all-reports-available-xrays-through2020-final.csv')\n",
    "# csv_a2020_df = pd.read_csv('/home/llm-hackathon/Downloads/fixed-data-csv/all-reports-available-xrays-after2020-final.csv')\n",
    "# csv_ids_through_2020 = csv_t2020_df['AccessionId']\n",
    "# csv_ids_after2020 = csv_a2020_df['AccessionId']\n",
    "# csv_t2020_df_indexed = csv_t2020_df.set_index('AccessionId')"
   ]
  },
  {
   "cell_type": "code",
   "execution_count": 3,
   "metadata": {},
   "outputs": [],
   "source": [
    "img_fp = '/data/UCSD_cxr/jpg/'\n",
    "img_ids = glob('*.jpg', root_dir=img_fp)\n",
    "img_ids.sort()\n",
    "img_acc_ids = [int(re.search(r'[0-9]+',img_id)[0]) for img_id in img_ids]"
   ]
  },
  {
   "cell_type": "code",
   "execution_count": 6,
   "metadata": {},
   "outputs": [],
   "source": [
    "# def generate_json(img_ids, save_json_fp, data_fp, question):\n",
    "#     json_output = []\n",
    "\n",
    "#     for img_id in tqdm(img_ids):\n",
    "#         img_acc_id = int(re.search(r'[0-9]+', img_id)[0])\n",
    "#         patient_id = img_id.split('.')[0]\n",
    "#         if img_acc_id in csv_t2020_df_indexed.index:\n",
    "#             prompt = csv_t2020_df_indexed.loc[img_acc_id, 'prompt'] + question\n",
    "#             answer = csv_t2020_df_indexed.loc[img_acc_id, 'answer']\n",
    "\n",
    "#             patient_data = {\n",
    "#                 \"id\": patient_id,\n",
    "#                 \"image\": data_fp + img_id,\n",
    "#                 \"conversations\": [\n",
    "#                     {\n",
    "#                         \"from\": \"human\",\n",
    "#                         \"value\": f\"{prompt}\"\n",
    "#                     },\n",
    "#                     {\n",
    "#                         \"from\": \"gpt\",\n",
    "#                         \"value\": f\"{answer}\"\n",
    "\n",
    "#                     }\n",
    "\n",
    "#                 ]\n",
    "#             }\n",
    "\n",
    "#             json_output.append(patient_data)\n",
    "\n",
    "#     with open(save_json_fp, 'w') as f:\n",
    "#         json.dump(json_output, f, indent=4)\n",
    "\n",
    "#     print('Dumped JSON')"
   ]
  },
  {
   "cell_type": "code",
   "execution_count": 7,
   "metadata": {},
   "outputs": [],
   "source": [
    "# Generate train json\n",
    "# save_json_fp = '/home/llm-hackathon/LLaVA/data/train_patient_finding_impression.json' \n",
    "# data_fp = '/home/llm-hackathon/LLaVA/data/jpg/'\n",
    "# question = '\\nBased on AUTHOR and CLINICAL HISTORY, suppose you were a radiologist on X-RAY,  could you provide a detailed report from this chest X-ray?'\n",
    "# generate_json(train_img_ids, save_json_fp, data_fp, question)"
   ]
  },
  {
   "cell_type": "code",
   "execution_count": 8,
   "metadata": {},
   "outputs": [],
   "source": [
    "# Generate test json \n",
    "# save_json_fp = '/home/llm-hackathon/LLaVA/data/test_patient_finding_impression.json' \n",
    "# data_fp = '/home/llm-hackathon/LLaVA/data/jpg/'\n",
    "# question = '\\nBased on AUTHOR and CLINICAL HISTORY, suppose you were a radiologist on X-RAY,  could you provide a detailed report from this chest X-ray?'\n",
    "# generate_json(test_img_ids, save_json_fp, data_fp, question)"
   ]
  },
  {
   "cell_type": "code",
   "execution_count": 9,
   "metadata": {},
   "outputs": [],
   "source": [
    "t2020 = pd.read_csv('/data/UCSD_cxr/through2020_dropna_formatted.csv')\n",
    "a2020 = pd.read_csv('/data/UCSD_cxr/after2020_dropna_formatted.csv')\n",
    "t2020['AccessionId'] = t2020['AccessionId'].astype(str)\n",
    "a2020['AccessionId'] = a2020['AccessionId'].astype(str)\n",
    "t2020 = t2020.set_index('AccessionId')\n",
    "a2020 = a2020.set_index('AccessionId')\n",
    "\n",
    "train_accn = pd.read_csv('/data/UCSD_cxr/train_accn.csv')['Accession'].astype(str)\n",
    "test_accn = pd.read_csv('/data/UCSD_cxr/test_accn.csv')['Accession'].astype(str)\n",
    "\n",
    "# some report text are missing, so we drop them\n",
    "t2020.dropna(inplace=True)\n",
    "a2020.dropna(inplace=True)"
   ]
  },
  {
   "cell_type": "code",
   "execution_count": 10,
   "metadata": {},
   "outputs": [],
   "source": [
    "# bools \n",
    "t2020_fu_bools= t2020['answer'].str.contains('FINDINGS:\\nUnknown')\n",
    "t2020_iu_bools = t2020['answer'].str.contains('IMPRESSION: Unknown')\n",
    "\n",
    "t2020_unknown_bools = t2020_fu_bools | t2020_iu_bools\n",
    "\n",
    "a2020_fu_bools= a2020['answer'].str.contains('FINDINGS:\\nUnknown')\n",
    "a2020_iu_bools = a2020['answer'].str.contains('IMPRESSION: Unknown')\n",
    "\n",
    "a2020_unknown_bools = a2020_fu_bools | a2020_iu_bools"
   ]
  },
  {
   "cell_type": "code",
   "execution_count": 11,
   "metadata": {},
   "outputs": [],
   "source": [
    "t2020_fu = t2020[t2020_fu_bools] # fu = findings unknown\n",
    "t2020_iu = t2020[t2020_iu_bools] # iu = impression unknown\n",
    "\n",
    "a2020_fu = a2020[a2020_fu_bools]\n",
    "a2020_iu = a2020[a2020_iu_bools]"
   ]
  },
  {
   "cell_type": "code",
   "execution_count": 12,
   "metadata": {},
   "outputs": [
    {
     "name": "stdout",
     "output_type": "stream",
     "text": [
      "a2020 shape: 88852\n",
      "a2020_fu shape: 6022\n",
      "a2020_iu shape: 199\n",
      "t2020 shape: 99536\n",
      "t2020_fu shape: 7545\n",
      "t2020_iu shape: 7255\n"
     ]
    }
   ],
   "source": [
    "print(\"a2020 shape:\", a2020.shape[0])\n",
    "print(\"a2020_fu shape:\", a2020_fu.shape[0])\n",
    "print(\"a2020_iu shape:\", a2020_iu.shape[0])\n",
    "print(\"t2020 shape:\", t2020.shape[0])\n",
    "print(\"t2020_fu shape:\", t2020_fu.shape[0])\n",
    "print(\"t2020_iu shape:\", t2020_iu.shape[0])"
   ]
  },
  {
   "cell_type": "code",
   "execution_count": 13,
   "metadata": {},
   "outputs": [
    {
     "data": {
      "text/plain": [
       "6027"
      ]
     },
     "execution_count": 13,
     "metadata": {},
     "output_type": "execute_result"
    }
   ],
   "source": [
    "a2020['answer'].str.contains('Unknown').sum()"
   ]
  },
  {
   "cell_type": "code",
   "execution_count": 14,
   "metadata": {},
   "outputs": [
    {
     "data": {
      "text/plain": [
       "7916"
      ]
     },
     "execution_count": 14,
     "metadata": {},
     "output_type": "execute_result"
    }
   ],
   "source": [
    "t2020['answer'].str.contains('Unknown').sum()"
   ]
  },
  {
   "cell_type": "code",
   "execution_count": 15,
   "metadata": {},
   "outputs": [],
   "source": [
    "# when findings are unknown, extract impression\n",
    "# t2020_fu['ReportText'].str.extract(r'(?s)(FINDINGS/.*)(IMPRESSION:.*?)(?:CONCURRENT|$)')\n",
    "# the nans have no findings\n",
    "findings_t2020_fu = t2020_fu['ReportText'].str.extract(r'(?s)FINDINGS(.*?)(?=IMPRESSION:|Signed by:|\\Z)')[0].str.strip().fillna('').apply(lambda x: np.nan if len(x) < 10 else x)\n",
    "impression_t2020_fu = t2020_fu['ReportText'].str.extract(r'(?s)IMPRESSION:(.*?)(?=Signed by:|\\Z)')[0].str.strip().fillna('').apply(lambda x: np.nan if len(x) < 10 else x)\n",
    "\n",
    "findings_t2020_fu = findings_t2020_fu.apply(lambda x: 'FINDINGS:' + x if type(x) == str else x)\n",
    "impression_t2020_fu = impression_t2020_fu.apply(lambda x: 'IMPRESSION:' + x if type(x) == str else x)"
   ]
  },
  {
   "cell_type": "code",
   "execution_count": 16,
   "metadata": {},
   "outputs": [],
   "source": [
    "findings_a2020_fu = a2020_fu['ReportText'].str.extract(r'(?s)FINDINGS(.*?)(?=IMPRESSION:|Signed by:|\\Z)')[0].str.strip().fillna('').apply(lambda x: np.nan if len(x) < 10 else x)\n",
    "impression_a2020_fu = a2020_fu['ReportText'].str.extract(r'(?s)IMPRESSION:(.*?)(?=Signed by:|\\Z)')[0].str.strip().fillna('').apply(lambda x: np.nan if len(x) < 10 else x)\n",
    "\n",
    "findings_a2020_fu = findings_a2020_fu.apply(lambda x: 'FINDINGS:' + x if type(x) == str else x)\n",
    "impression_a2020_fu = impression_a2020_fu.apply(lambda x: 'IMPRESSION:' + x if type(x) == str else x)"
   ]
  },
  {
   "cell_type": "code",
   "execution_count": 17,
   "metadata": {},
   "outputs": [],
   "source": [
    "findings_a2020_iu = a2020_iu['ReportText'].str.extract(r'(?s)FINDINGS(.*?)(?=IMPRESSION:|Signed by:|\\Z)')[0].str.strip().fillna('').apply(lambda x: np.nan if len(x) < 10 else x)\n",
    "impression_a2020_iu = a2020_iu['ReportText'].str.extract(r'(?s)IMPRESSION:(.*?)(?=Signed by:|\\Z)')[0].str.strip().fillna('').apply(lambda x: np.nan if len(x) < 10 else x)\n",
    "\n",
    "findings_a2020_iu = findings_a2020_iu.apply(lambda x: 'FINDINGS:' + x if type(x) == str else x)\n",
    "impression_a2020_iu = impression_a2020_iu.apply(lambda x: 'IMPRESSION:' + x if type(x) == str else x)"
   ]
  },
  {
   "cell_type": "code",
   "execution_count": 18,
   "metadata": {},
   "outputs": [],
   "source": [
    "findings_t2020_iu = t2020_iu['ReportText'].str.extract(r'(?s)FINDINGS(.*?)(?=IMPRESSION:|Signed by:|\\Z)')[0].str.strip().fillna('').apply(lambda x: np.nan if len(x) < 10 else x)\n",
    "impression_t2020_iu = t2020_iu['ReportText'].str.extract(r'(?s)IMPRESSION:(.*?)(?=Signed by:|\\Z)')[0].str.strip().fillna('').apply(lambda x: np.nan if len(x) < 10 else x)\n",
    "\n",
    "findings_t2020_iu = findings_t2020_iu.apply(lambda x: 'FINDINGS:' + x if type(x) == str else x)\n",
    "impression_t2020_iu = impression_t2020_iu.apply(lambda x: 'IMPRESSION:' + x if type(x) == str else x)"
   ]
  },
  {
   "cell_type": "code",
   "execution_count": 19,
   "metadata": {},
   "outputs": [],
   "source": [
    "new_answer_t2020_fu = pd.concat([findings_t2020_fu, impression_t2020_fu], axis=1).apply(lambda x: '\\n'.join(x.dropna()) if x.dropna().size > 0 else np.nan, axis=1)\n",
    "new_answer_t2020_iu = pd.concat([findings_t2020_iu, impression_t2020_iu], axis=1).apply(lambda x: '\\n'.join(x.dropna()) if x.dropna().size > 0 else np.nan, axis=1)\n",
    "new_answer_a2020_fu = pd.concat([findings_a2020_fu, impression_a2020_fu], axis=1).apply(lambda x: '\\n'.join(x.dropna()) if x.dropna().size > 0 else np.nan, axis=1)\n",
    "new_answer_a2020_iu = pd.concat([findings_a2020_iu, impression_a2020_iu], axis=1).apply(lambda x: '\\n'.join(x.dropna()) if x.dropna().size > 0 else np.nan, axis=1)"
   ]
  },
  {
   "cell_type": "code",
   "execution_count": 20,
   "metadata": {},
   "outputs": [],
   "source": [
    "t2020_filled_missing = new_answer_t2020_fu.combine_first(new_answer_t2020_iu).dropna()\n"
   ]
  },
  {
   "cell_type": "code",
   "execution_count": 21,
   "metadata": {},
   "outputs": [],
   "source": [
    "a2020_filled_missing = new_answer_a2020_fu.reset_index().groupby('AccessionId').last()[0].combine_first(new_answer_a2020_iu.groupby('AccessionId').last().dropna()).dropna()"
   ]
  },
  {
   "cell_type": "code",
   "execution_count": 22,
   "metadata": {},
   "outputs": [],
   "source": [
    "t2020.loc[t2020_filled_missing.index, 'answer'] = t2020_filled_missing\n",
    "a2020.loc[a2020_filled_missing.index, 'answer'] = a2020_filled_missing"
   ]
  },
  {
   "cell_type": "code",
   "execution_count": 23,
   "metadata": {},
   "outputs": [
    {
     "data": {
      "text/plain": [
       "46"
      ]
     },
     "execution_count": 23,
     "metadata": {},
     "output_type": "execute_result"
    }
   ],
   "source": [
    "t2020['answer'].str.contains('Unknown').sum()"
   ]
  },
  {
   "cell_type": "code",
   "execution_count": 24,
   "metadata": {},
   "outputs": [
    {
     "data": {
      "text/plain": [
       "182"
      ]
     },
     "execution_count": 24,
     "metadata": {},
     "output_type": "execute_result"
    }
   ],
   "source": [
    "a2020['answer'].str.contains('Unknown').sum()"
   ]
  },
  {
   "cell_type": "code",
   "execution_count": 25,
   "metadata": {},
   "outputs": [
    {
     "data": {
      "text/html": [
       "<div>\n",
       "<style scoped>\n",
       "    .dataframe tbody tr th:only-of-type {\n",
       "        vertical-align: middle;\n",
       "    }\n",
       "\n",
       "    .dataframe tbody tr th {\n",
       "        vertical-align: top;\n",
       "    }\n",
       "\n",
       "    .dataframe thead th {\n",
       "        text-align: right;\n",
       "    }\n",
       "</style>\n",
       "<table border=\"1\" class=\"dataframe\">\n",
       "  <thead>\n",
       "    <tr style=\"text-align: right;\">\n",
       "      <th></th>\n",
       "      <th>FalseID</th>\n",
       "      <th>DocumentTitle</th>\n",
       "      <th>DocumentDate</th>\n",
       "      <th>Context</th>\n",
       "      <th>Age</th>\n",
       "      <th>Sex</th>\n",
       "      <th>Author</th>\n",
       "      <th>ReportText</th>\n",
       "      <th>prompt</th>\n",
       "      <th>answer</th>\n",
       "    </tr>\n",
       "    <tr>\n",
       "      <th>AccessionId</th>\n",
       "      <th></th>\n",
       "      <th></th>\n",
       "      <th></th>\n",
       "      <th></th>\n",
       "      <th></th>\n",
       "      <th></th>\n",
       "      <th></th>\n",
       "      <th></th>\n",
       "      <th></th>\n",
       "      <th></th>\n",
       "    </tr>\n",
       "  </thead>\n",
       "  <tbody>\n",
       "    <tr>\n",
       "      <th>53333541</th>\n",
       "      <td>1567456</td>\n",
       "      <td>X-RAY CHEST SINGLE VIEW</td>\n",
       "      <td>1/23/2021</td>\n",
       "      <td>Outpatient</td>\n",
       "      <td>52</td>\n",
       "      <td>Male</td>\n",
       "      <td>Jacobs, Kathleen</td>\n",
       "      <td>EXAM DESCRIPTION:  X-RAY CHEST SINGLE VIEW    ...</td>\n",
       "      <td>AUTHOR: Jacobs, Kathleen \\nCLINICAL HISTORY: D...</td>\n",
       "      <td>FINDINGS:\\nLines and Tubes: None  Mediastinum:...</td>\n",
       "    </tr>\n",
       "    <tr>\n",
       "      <th>53205565</th>\n",
       "      <td>28204320</td>\n",
       "      <td>X-RAY CHEST SINGLE VIEW</td>\n",
       "      <td>12/17/2020</td>\n",
       "      <td>Inpatient</td>\n",
       "      <td>79</td>\n",
       "      <td>Female</td>\n",
       "      <td>Kligerman, Seth</td>\n",
       "      <td>EXAM DESCRIPTION:  X-RAY CHEST SINGLE VIEW    ...</td>\n",
       "      <td>AUTHOR: Kligerman, Seth \\nCLINICAL HISTORY: Ne...</td>\n",
       "      <td>FINDINGS:\\nLines and Tubes: None  Mediastinum:...</td>\n",
       "    </tr>\n",
       "    <tr>\n",
       "      <th>53993975</th>\n",
       "      <td>28240024</td>\n",
       "      <td>X-RAY CHEST FRONTAL AND LATERAL</td>\n",
       "      <td>9/2/2021</td>\n",
       "      <td>Inpatient</td>\n",
       "      <td>70</td>\n",
       "      <td>Male</td>\n",
       "      <td>Hahn, Lewis</td>\n",
       "      <td>EXAM DESCRIPTION:  X-RAY CHEST FRONTAL AND LAT...</td>\n",
       "      <td>AUTHOR: Hahn, Lewis \\nCLINICAL HISTORY: Rule o...</td>\n",
       "      <td>FINDINGS:\\nLines and Tubes: None  Mediastinum:...</td>\n",
       "    </tr>\n",
       "    <tr>\n",
       "      <th>53513416</th>\n",
       "      <td>28254880</td>\n",
       "      <td>X-RAY CHEST SINGLE VIEW</td>\n",
       "      <td>3/28/2021</td>\n",
       "      <td>Emergency</td>\n",
       "      <td>62</td>\n",
       "      <td>Female</td>\n",
       "      <td>Hahn, Lewis</td>\n",
       "      <td>EXAM DESCRIPTION:  X-RAY CHEST SINGLE VIEW    ...</td>\n",
       "      <td>AUTHOR: Hahn, Lewis \\nCLINICAL HISTORY: Sepsis...</td>\n",
       "      <td>FINDINGS:\\nLines and Tubes: None  Mediastinum:...</td>\n",
       "    </tr>\n",
       "    <tr>\n",
       "      <th>53662146</th>\n",
       "      <td>28260488</td>\n",
       "      <td>X-RAY CHEST SINGLE VIEW</td>\n",
       "      <td>5/17/2021</td>\n",
       "      <td>Outpatient</td>\n",
       "      <td>81</td>\n",
       "      <td>Female</td>\n",
       "      <td>Hahn, Lewis</td>\n",
       "      <td>EXAM DESCRIPTION:  X-RAY CHEST SINGLE VIEW    ...</td>\n",
       "      <td>AUTHOR: Hahn, Lewis \\nCLINICAL HISTORY: Chest ...</td>\n",
       "      <td>FINDINGS:\\nLines and Tubes: Dual-chamber ICD i...</td>\n",
       "    </tr>\n",
       "    <tr>\n",
       "      <th>...</th>\n",
       "      <td>...</td>\n",
       "      <td>...</td>\n",
       "      <td>...</td>\n",
       "      <td>...</td>\n",
       "      <td>...</td>\n",
       "      <td>...</td>\n",
       "      <td>...</td>\n",
       "      <td>...</td>\n",
       "      <td>...</td>\n",
       "      <td>...</td>\n",
       "    </tr>\n",
       "    <tr>\n",
       "      <th>54167443</th>\n",
       "      <td>472010408</td>\n",
       "      <td>X-RAY CHEST FRONTAL AND LATERAL</td>\n",
       "      <td>10/7/2021</td>\n",
       "      <td>Outpatient</td>\n",
       "      <td>23</td>\n",
       "      <td>Male</td>\n",
       "      <td>Horowitz, Michael</td>\n",
       "      <td>EXAM DESCRIPTION:  X-RAY CHEST FRONTAL AND LAT...</td>\n",
       "      <td>AUTHOR: Horowitz, Michael \\nCLINICAL HISTORY: ...</td>\n",
       "      <td>FINDINGS:\\nDevices, lines and Tubes: None    M...</td>\n",
       "    </tr>\n",
       "    <tr>\n",
       "      <th>53726745</th>\n",
       "      <td>472054544</td>\n",
       "      <td>X-RAY CHEST SINGLE VIEW</td>\n",
       "      <td>6/7/2021</td>\n",
       "      <td>Outpatient</td>\n",
       "      <td>25</td>\n",
       "      <td>Female</td>\n",
       "      <td>Rajpoot, Ravi</td>\n",
       "      <td>EXAM DESCRIPTION:  X-RAY CHEST SINGLE VIEW    ...</td>\n",
       "      <td>AUTHOR: Rajpoot, Ravi \\nCLINICAL HISTORY: Feve...</td>\n",
       "      <td>FINDINGS:\\nLines and Tubes: None  Mediastinum:...</td>\n",
       "    </tr>\n",
       "    <tr>\n",
       "      <th>53727052</th>\n",
       "      <td>736753880</td>\n",
       "      <td>X-RAY CHEST FRONTAL AND LATERAL</td>\n",
       "      <td>6/7/2021</td>\n",
       "      <td>Outpatient</td>\n",
       "      <td>24</td>\n",
       "      <td>Male</td>\n",
       "      <td>Rajpoot, Ravi</td>\n",
       "      <td>EXAM DESCRIPTION:  X-RAY CHEST FRONTAL AND LAT...</td>\n",
       "      <td>AUTHOR: Rajpoot, Ravi \\nCLINICAL HISTORY: Dysp...</td>\n",
       "      <td>FINDINGS:\\nLines and Tubes: None  Mediastinum:...</td>\n",
       "    </tr>\n",
       "    <tr>\n",
       "      <th>53530452</th>\n",
       "      <td>65365432</td>\n",
       "      <td>X-RAY CHEST SINGLE VIEW</td>\n",
       "      <td>4/2/2021</td>\n",
       "      <td>Urgent Care</td>\n",
       "      <td>20</td>\n",
       "      <td>Male</td>\n",
       "      <td>Hahn, Lewis</td>\n",
       "      <td>EXAM DESCRIPTION:  X-RAY CHEST SINGLE VIEW    ...</td>\n",
       "      <td>AUTHOR: Hahn, Lewis \\nCLINICAL HISTORY: COVID ...</td>\n",
       "      <td>FINDINGS:\\nLines and Tubes: None  Mediastinum:...</td>\n",
       "    </tr>\n",
       "    <tr>\n",
       "      <th>53277988</th>\n",
       "      <td>42335912</td>\n",
       "      <td>X-RAY CHEST FRONTAL AND LATERAL</td>\n",
       "      <td>1/7/2021</td>\n",
       "      <td>Inpatient</td>\n",
       "      <td>31</td>\n",
       "      <td>Male</td>\n",
       "      <td>Horowitz, Michael</td>\n",
       "      <td>EXAM DESCRIPTION:  X-RAY CHEST FRONTAL AND LAT...</td>\n",
       "      <td>AUTHOR: Horowitz, Michael \\nCLINICAL HISTORY: ...</td>\n",
       "      <td>FINDINGS:\\nDevices, lines and Tubes: None    M...</td>\n",
       "    </tr>\n",
       "  </tbody>\n",
       "</table>\n",
       "<p>88852 rows × 10 columns</p>\n",
       "</div>"
      ],
      "text/plain": [
       "               FalseID                    DocumentTitle DocumentDate  \\\n",
       "AccessionId                                                            \n",
       "53333541       1567456          X-RAY CHEST SINGLE VIEW    1/23/2021   \n",
       "53205565      28204320          X-RAY CHEST SINGLE VIEW   12/17/2020   \n",
       "53993975      28240024  X-RAY CHEST FRONTAL AND LATERAL     9/2/2021   \n",
       "53513416      28254880          X-RAY CHEST SINGLE VIEW    3/28/2021   \n",
       "53662146      28260488          X-RAY CHEST SINGLE VIEW    5/17/2021   \n",
       "...                ...                              ...          ...   \n",
       "54167443     472010408  X-RAY CHEST FRONTAL AND LATERAL    10/7/2021   \n",
       "53726745     472054544          X-RAY CHEST SINGLE VIEW     6/7/2021   \n",
       "53727052     736753880  X-RAY CHEST FRONTAL AND LATERAL     6/7/2021   \n",
       "53530452      65365432          X-RAY CHEST SINGLE VIEW     4/2/2021   \n",
       "53277988      42335912  X-RAY CHEST FRONTAL AND LATERAL     1/7/2021   \n",
       "\n",
       "                 Context  Age     Sex              Author  \\\n",
       "AccessionId                                                 \n",
       "53333541      Outpatient   52    Male   Jacobs, Kathleen    \n",
       "53205565       Inpatient   79  Female    Kligerman, Seth    \n",
       "53993975       Inpatient   70    Male        Hahn, Lewis    \n",
       "53513416       Emergency   62  Female        Hahn, Lewis    \n",
       "53662146      Outpatient   81  Female        Hahn, Lewis    \n",
       "...                  ...  ...     ...                 ...   \n",
       "54167443      Outpatient   23    Male  Horowitz, Michael    \n",
       "53726745      Outpatient   25  Female      Rajpoot, Ravi    \n",
       "53727052      Outpatient   24    Male      Rajpoot, Ravi    \n",
       "53530452     Urgent Care   20    Male        Hahn, Lewis    \n",
       "53277988       Inpatient   31    Male  Horowitz, Michael    \n",
       "\n",
       "                                                    ReportText  \\\n",
       "AccessionId                                                      \n",
       "53333541     EXAM DESCRIPTION:  X-RAY CHEST SINGLE VIEW    ...   \n",
       "53205565     EXAM DESCRIPTION:  X-RAY CHEST SINGLE VIEW    ...   \n",
       "53993975     EXAM DESCRIPTION:  X-RAY CHEST FRONTAL AND LAT...   \n",
       "53513416     EXAM DESCRIPTION:  X-RAY CHEST SINGLE VIEW    ...   \n",
       "53662146     EXAM DESCRIPTION:  X-RAY CHEST SINGLE VIEW    ...   \n",
       "...                                                        ...   \n",
       "54167443     EXAM DESCRIPTION:  X-RAY CHEST FRONTAL AND LAT...   \n",
       "53726745     EXAM DESCRIPTION:  X-RAY CHEST SINGLE VIEW    ...   \n",
       "53727052     EXAM DESCRIPTION:  X-RAY CHEST FRONTAL AND LAT...   \n",
       "53530452     EXAM DESCRIPTION:  X-RAY CHEST SINGLE VIEW    ...   \n",
       "53277988     EXAM DESCRIPTION:  X-RAY CHEST FRONTAL AND LAT...   \n",
       "\n",
       "                                                        prompt  \\\n",
       "AccessionId                                                      \n",
       "53333541     AUTHOR: Jacobs, Kathleen \\nCLINICAL HISTORY: D...   \n",
       "53205565     AUTHOR: Kligerman, Seth \\nCLINICAL HISTORY: Ne...   \n",
       "53993975     AUTHOR: Hahn, Lewis \\nCLINICAL HISTORY: Rule o...   \n",
       "53513416     AUTHOR: Hahn, Lewis \\nCLINICAL HISTORY: Sepsis...   \n",
       "53662146     AUTHOR: Hahn, Lewis \\nCLINICAL HISTORY: Chest ...   \n",
       "...                                                        ...   \n",
       "54167443     AUTHOR: Horowitz, Michael \\nCLINICAL HISTORY: ...   \n",
       "53726745     AUTHOR: Rajpoot, Ravi \\nCLINICAL HISTORY: Feve...   \n",
       "53727052     AUTHOR: Rajpoot, Ravi \\nCLINICAL HISTORY: Dysp...   \n",
       "53530452     AUTHOR: Hahn, Lewis \\nCLINICAL HISTORY: COVID ...   \n",
       "53277988     AUTHOR: Horowitz, Michael \\nCLINICAL HISTORY: ...   \n",
       "\n",
       "                                                        answer  \n",
       "AccessionId                                                     \n",
       "53333541     FINDINGS:\\nLines and Tubes: None  Mediastinum:...  \n",
       "53205565     FINDINGS:\\nLines and Tubes: None  Mediastinum:...  \n",
       "53993975     FINDINGS:\\nLines and Tubes: None  Mediastinum:...  \n",
       "53513416     FINDINGS:\\nLines and Tubes: None  Mediastinum:...  \n",
       "53662146     FINDINGS:\\nLines and Tubes: Dual-chamber ICD i...  \n",
       "...                                                        ...  \n",
       "54167443     FINDINGS:\\nDevices, lines and Tubes: None    M...  \n",
       "53726745     FINDINGS:\\nLines and Tubes: None  Mediastinum:...  \n",
       "53727052     FINDINGS:\\nLines and Tubes: None  Mediastinum:...  \n",
       "53530452     FINDINGS:\\nLines and Tubes: None  Mediastinum:...  \n",
       "53277988     FINDINGS:\\nDevices, lines and Tubes: None    M...  \n",
       "\n",
       "[88852 rows x 10 columns]"
      ]
     },
     "execution_count": 25,
     "metadata": {},
     "output_type": "execute_result"
    }
   ],
   "source": [
    "a2020"
   ]
  },
  {
   "cell_type": "code",
   "execution_count": 26,
   "metadata": {},
   "outputs": [
    {
     "name": "stdout",
     "output_type": "stream",
     "text": [
      "t2020 duplicates: 0\n",
      "a2020 duplicates: 196\n"
     ]
    }
   ],
   "source": [
    "# drop rows with duplicate ids\n",
    "a2020_len = a2020.shape[0]\n",
    "t2020_len = t2020.shape[0]\n",
    "\n",
    "a2020.reset_index(inplace=True)\n",
    "t2020.reset_index(inplace=True)\n",
    "\n",
    "a2020.drop_duplicates(subset='AccessionId', inplace=True)\n",
    "t2020.drop_duplicates(subset='AccessionId', inplace=True)\n",
    "\n",
    "print('t2020 duplicates:', t2020_len - t2020.shape[0])\n",
    "print('a2020 duplicates:', a2020_len - a2020.shape[0])"
   ]
  },
  {
   "cell_type": "code",
   "execution_count": 27,
   "metadata": {},
   "outputs": [],
   "source": [
    "a2020.set_index('AccessionId', inplace=True)\n",
    "t2020.set_index('AccessionId', inplace=True)"
   ]
  },
  {
   "cell_type": "code",
   "execution_count": 28,
   "metadata": {},
   "outputs": [
    {
     "data": {
      "text/html": [
       "<div>\n",
       "<style scoped>\n",
       "    .dataframe tbody tr th:only-of-type {\n",
       "        vertical-align: middle;\n",
       "    }\n",
       "\n",
       "    .dataframe tbody tr th {\n",
       "        vertical-align: top;\n",
       "    }\n",
       "\n",
       "    .dataframe thead th {\n",
       "        text-align: right;\n",
       "    }\n",
       "</style>\n",
       "<table border=\"1\" class=\"dataframe\">\n",
       "  <thead>\n",
       "    <tr style=\"text-align: right;\">\n",
       "      <th></th>\n",
       "      <th>FalseID</th>\n",
       "      <th>DocumentTitle</th>\n",
       "      <th>DocumentDate</th>\n",
       "      <th>Context</th>\n",
       "      <th>Age</th>\n",
       "      <th>Sex</th>\n",
       "      <th>Author</th>\n",
       "      <th>ReportText</th>\n",
       "      <th>prompt</th>\n",
       "      <th>answer</th>\n",
       "    </tr>\n",
       "    <tr>\n",
       "      <th>AccessionId</th>\n",
       "      <th></th>\n",
       "      <th></th>\n",
       "      <th></th>\n",
       "      <th></th>\n",
       "      <th></th>\n",
       "      <th></th>\n",
       "      <th></th>\n",
       "      <th></th>\n",
       "      <th></th>\n",
       "      <th></th>\n",
       "    </tr>\n",
       "  </thead>\n",
       "  <tbody>\n",
       "    <tr>\n",
       "      <th>53333541</th>\n",
       "      <td>1567456</td>\n",
       "      <td>X-RAY CHEST SINGLE VIEW</td>\n",
       "      <td>1/23/2021</td>\n",
       "      <td>Outpatient</td>\n",
       "      <td>52</td>\n",
       "      <td>Male</td>\n",
       "      <td>Jacobs, Kathleen</td>\n",
       "      <td>EXAM DESCRIPTION:  X-RAY CHEST SINGLE VIEW    ...</td>\n",
       "      <td>AUTHOR: Jacobs, Kathleen \\nCLINICAL HISTORY: D...</td>\n",
       "      <td>FINDINGS:\\nLines and Tubes: None  Mediastinum:...</td>\n",
       "    </tr>\n",
       "    <tr>\n",
       "      <th>53205565</th>\n",
       "      <td>28204320</td>\n",
       "      <td>X-RAY CHEST SINGLE VIEW</td>\n",
       "      <td>12/17/2020</td>\n",
       "      <td>Inpatient</td>\n",
       "      <td>79</td>\n",
       "      <td>Female</td>\n",
       "      <td>Kligerman, Seth</td>\n",
       "      <td>EXAM DESCRIPTION:  X-RAY CHEST SINGLE VIEW    ...</td>\n",
       "      <td>AUTHOR: Kligerman, Seth \\nCLINICAL HISTORY: Ne...</td>\n",
       "      <td>FINDINGS:\\nLines and Tubes: None  Mediastinum:...</td>\n",
       "    </tr>\n",
       "    <tr>\n",
       "      <th>53993975</th>\n",
       "      <td>28240024</td>\n",
       "      <td>X-RAY CHEST FRONTAL AND LATERAL</td>\n",
       "      <td>9/2/2021</td>\n",
       "      <td>Inpatient</td>\n",
       "      <td>70</td>\n",
       "      <td>Male</td>\n",
       "      <td>Hahn, Lewis</td>\n",
       "      <td>EXAM DESCRIPTION:  X-RAY CHEST FRONTAL AND LAT...</td>\n",
       "      <td>AUTHOR: Hahn, Lewis \\nCLINICAL HISTORY: Rule o...</td>\n",
       "      <td>FINDINGS:\\nLines and Tubes: None  Mediastinum:...</td>\n",
       "    </tr>\n",
       "    <tr>\n",
       "      <th>53513416</th>\n",
       "      <td>28254880</td>\n",
       "      <td>X-RAY CHEST SINGLE VIEW</td>\n",
       "      <td>3/28/2021</td>\n",
       "      <td>Emergency</td>\n",
       "      <td>62</td>\n",
       "      <td>Female</td>\n",
       "      <td>Hahn, Lewis</td>\n",
       "      <td>EXAM DESCRIPTION:  X-RAY CHEST SINGLE VIEW    ...</td>\n",
       "      <td>AUTHOR: Hahn, Lewis \\nCLINICAL HISTORY: Sepsis...</td>\n",
       "      <td>FINDINGS:\\nLines and Tubes: None  Mediastinum:...</td>\n",
       "    </tr>\n",
       "    <tr>\n",
       "      <th>53662146</th>\n",
       "      <td>28260488</td>\n",
       "      <td>X-RAY CHEST SINGLE VIEW</td>\n",
       "      <td>5/17/2021</td>\n",
       "      <td>Outpatient</td>\n",
       "      <td>81</td>\n",
       "      <td>Female</td>\n",
       "      <td>Hahn, Lewis</td>\n",
       "      <td>EXAM DESCRIPTION:  X-RAY CHEST SINGLE VIEW    ...</td>\n",
       "      <td>AUTHOR: Hahn, Lewis \\nCLINICAL HISTORY: Chest ...</td>\n",
       "      <td>FINDINGS:\\nLines and Tubes: Dual-chamber ICD i...</td>\n",
       "    </tr>\n",
       "  </tbody>\n",
       "</table>\n",
       "</div>"
      ],
      "text/plain": [
       "              FalseID                    DocumentTitle DocumentDate  \\\n",
       "AccessionId                                                           \n",
       "53333541      1567456          X-RAY CHEST SINGLE VIEW    1/23/2021   \n",
       "53205565     28204320          X-RAY CHEST SINGLE VIEW   12/17/2020   \n",
       "53993975     28240024  X-RAY CHEST FRONTAL AND LATERAL     9/2/2021   \n",
       "53513416     28254880          X-RAY CHEST SINGLE VIEW    3/28/2021   \n",
       "53662146     28260488          X-RAY CHEST SINGLE VIEW    5/17/2021   \n",
       "\n",
       "                Context  Age     Sex             Author  \\\n",
       "AccessionId                                               \n",
       "53333541     Outpatient   52    Male  Jacobs, Kathleen    \n",
       "53205565      Inpatient   79  Female   Kligerman, Seth    \n",
       "53993975      Inpatient   70    Male       Hahn, Lewis    \n",
       "53513416      Emergency   62  Female       Hahn, Lewis    \n",
       "53662146     Outpatient   81  Female       Hahn, Lewis    \n",
       "\n",
       "                                                    ReportText  \\\n",
       "AccessionId                                                      \n",
       "53333541     EXAM DESCRIPTION:  X-RAY CHEST SINGLE VIEW    ...   \n",
       "53205565     EXAM DESCRIPTION:  X-RAY CHEST SINGLE VIEW    ...   \n",
       "53993975     EXAM DESCRIPTION:  X-RAY CHEST FRONTAL AND LAT...   \n",
       "53513416     EXAM DESCRIPTION:  X-RAY CHEST SINGLE VIEW    ...   \n",
       "53662146     EXAM DESCRIPTION:  X-RAY CHEST SINGLE VIEW    ...   \n",
       "\n",
       "                                                        prompt  \\\n",
       "AccessionId                                                      \n",
       "53333541     AUTHOR: Jacobs, Kathleen \\nCLINICAL HISTORY: D...   \n",
       "53205565     AUTHOR: Kligerman, Seth \\nCLINICAL HISTORY: Ne...   \n",
       "53993975     AUTHOR: Hahn, Lewis \\nCLINICAL HISTORY: Rule o...   \n",
       "53513416     AUTHOR: Hahn, Lewis \\nCLINICAL HISTORY: Sepsis...   \n",
       "53662146     AUTHOR: Hahn, Lewis \\nCLINICAL HISTORY: Chest ...   \n",
       "\n",
       "                                                        answer  \n",
       "AccessionId                                                     \n",
       "53333541     FINDINGS:\\nLines and Tubes: None  Mediastinum:...  \n",
       "53205565     FINDINGS:\\nLines and Tubes: None  Mediastinum:...  \n",
       "53993975     FINDINGS:\\nLines and Tubes: None  Mediastinum:...  \n",
       "53513416     FINDINGS:\\nLines and Tubes: None  Mediastinum:...  \n",
       "53662146     FINDINGS:\\nLines and Tubes: Dual-chamber ICD i...  "
      ]
     },
     "execution_count": 28,
     "metadata": {},
     "output_type": "execute_result"
    }
   ],
   "source": [
    "a2020.head()"
   ]
  },
  {
   "cell_type": "code",
   "execution_count": 29,
   "metadata": {},
   "outputs": [
    {
     "data": {
      "text/plain": [
       "93"
      ]
     },
     "execution_count": 29,
     "metadata": {},
     "output_type": "execute_result"
    }
   ],
   "source": [
    "a2020['answer'].str.contains('Unknown').sum()"
   ]
  },
  {
   "cell_type": "code",
   "execution_count": 30,
   "metadata": {},
   "outputs": [
    {
     "data": {
      "text/plain": [
       "46"
      ]
     },
     "execution_count": 30,
     "metadata": {},
     "output_type": "execute_result"
    }
   ],
   "source": [
    "t2020['answer'].str.contains('Unknown').sum()"
   ]
  },
  {
   "cell_type": "code",
   "execution_count": 31,
   "metadata": {},
   "outputs": [],
   "source": [
    "a2020 = a2020[~a2020['answer'].str.contains('Unknown')]\n",
    "t2020 = t2020[~t2020['answer'].str.contains('Unknown')]"
   ]
  },
  {
   "cell_type": "code",
   "execution_count": 32,
   "metadata": {},
   "outputs": [],
   "source": [
    "def contains_date(report):\n",
    "    # Regular expression pattern to match dates in mm/dd/yyyy format\n",
    "    date_pattern = r'\\b\\d{1,2}/\\d{1,2}/\\d{4}\\b'\n",
    "    \n",
    "    # Search for the pattern in the report\n",
    "    if re.search(date_pattern, report):\n",
    "        return True  # The report contains a date\n",
    "    else:\n",
    "        return False  # The report does not contain a date"
   ]
  },
  {
   "cell_type": "markdown",
   "metadata": {},
   "source": [
    "Drop reports with dates because those are comparing to other reports (which will just confuse LLava more)"
   ]
  },
  {
   "cell_type": "code",
   "execution_count": 33,
   "metadata": {},
   "outputs": [
    {
     "data": {
      "text/plain": [
       "4792"
      ]
     },
     "execution_count": 33,
     "metadata": {},
     "output_type": "execute_result"
    }
   ],
   "source": [
    "a2020['answer'].apply(contains_date).sum()"
   ]
  },
  {
   "cell_type": "code",
   "execution_count": 34,
   "metadata": {},
   "outputs": [
    {
     "data": {
      "text/plain": [
       "7573"
      ]
     },
     "execution_count": 34,
     "metadata": {},
     "output_type": "execute_result"
    }
   ],
   "source": [
    "t2020['answer'].apply(contains_date).sum()"
   ]
  },
  {
   "cell_type": "code",
   "execution_count": 35,
   "metadata": {},
   "outputs": [],
   "source": [
    "t2020 = t2020[~t2020['answer'].apply(contains_date)]"
   ]
  },
  {
   "cell_type": "code",
   "execution_count": 36,
   "metadata": {},
   "outputs": [],
   "source": [
    "a2020 = a2020[~a2020['answer'].apply(contains_date)]"
   ]
  },
  {
   "cell_type": "markdown",
   "metadata": {},
   "source": [
    "Remove CONCURRENT SUPERVISION from reports (don't want llava to copy and repeat this information)"
   ]
  },
  {
   "cell_type": "code",
   "execution_count": 37,
   "metadata": {},
   "outputs": [
    {
     "name": "stdout",
     "output_type": "stream",
     "text": [
      "FINDINGS:\n",
      "Lines and Tubes: None  Mediastinum: The cardiomediastinal silhouette is unremarkable. No lymphadenopathy is appreciated.  Lungs: Lungs are well expanded. Streaky bibasal opacities, left greater than right.  Pleura: No left pleural effusion. The right costophrenic sulcus is not imaged. No pneumothorax.  Bones and soft tissues: Partially visualized ORIF hardware of the right humerus without acute hardware complication. Multiple lateral right rib healed fracture deformities.    CONCURRENT SUPERVISION:  I have reviewed the images and agree with the resident interpretation.           Preliminary created by: Besser, Alexandra\n",
      "\n",
      "IMPRESSION: Streaky bibasal opacities which may be on the basis of atelectasis. No definite focal consolidation.\n"
     ]
    }
   ],
   "source": [
    "print(a2020[a2020['answer'].str.contains('CONCURRENT')]['answer'].iloc[0])"
   ]
  },
  {
   "cell_type": "code",
   "execution_count": 38,
   "metadata": {},
   "outputs": [],
   "source": [
    "def clean_report(report):\n",
    "    # Remove \"CONCURRENT SUPERVISION\" section and \"Preliminary created by:\", but keep \"IMPRESSION\"\n",
    "    cleaned_report = re.sub(r\"CONCURRENT SUPERVISION:.*?IMPRESSION:\", \"IMPRESSION:\", report, flags=re.DOTALL)\n",
    "    return cleaned_report\n",
    "\n",
    "# Apply the cleaning function to each report in the 'answer' column\n",
    "a2020['answer'] = a2020['answer'].apply(clean_report)\n",
    "t2020['answer'] = t2020['answer'].apply(clean_report)\n"
   ]
  },
  {
   "cell_type": "code",
   "execution_count": 39,
   "metadata": {},
   "outputs": [],
   "source": [
    "# drop the annoying stragglers (there is only 3 anyway)\n",
    "t2020 = t2020[~t2020['answer'].str.contains('CONCURRENT')]"
   ]
  },
  {
   "cell_type": "code",
   "execution_count": 40,
   "metadata": {},
   "outputs": [
    {
     "data": {
      "text/plain": [
       "AccessionId\n",
       "44067089    AUTHOR: Kligerman, Seth \\nCLINICAL HISTORY: Co...\n",
       "44067059    AUTHOR: Kligerman, Seth \\nCLINICAL HISTORY: Co...\n",
       "44066941    AUTHOR: Ladd, William \\nCLINICAL HISTORY: Stat...\n",
       "44066704    AUTHOR: Naheedy, John \\nCLINICAL HISTORY: The ...\n",
       "44066777    AUTHOR: Kligerman, Seth \\nCLINICAL HISTORY: Lu...\n",
       "                                  ...                        \n",
       "53256733    AUTHOR: Hsiao, Albert \\nCLINICAL HISTORY: Foll...\n",
       "53257183    AUTHOR: Hsiao, Albert \\nCLINICAL HISTORY: Ches...\n",
       "53257251    AUTHOR: Rastogi, Monika \\nCLINICAL HISTORY: At...\n",
       "53257270    AUTHOR: Rastogi, Monika \\nCLINICAL HISTORY: Ch...\n",
       "53257291    AUTHOR: Rastogi, Monika \\nCLINICAL HISTORY: Sh...\n",
       "Name: prompt, Length: 91914, dtype: object"
      ]
     },
     "execution_count": 40,
     "metadata": {},
     "output_type": "execute_result"
    }
   ],
   "source": [
    "t2020['prompt']"
   ]
  },
  {
   "cell_type": "code",
   "execution_count": 41,
   "metadata": {},
   "outputs": [
    {
     "name": "stderr",
     "output_type": "stream",
     "text": [
      "100%|██████████| 112839/112839 [00:01<00:00, 75514.71it/s]\n"
     ]
    },
    {
     "name": "stdout",
     "output_type": "stream",
     "text": [
      "---Through 2020 Completed, Found 39527 Patients---\n",
      "---After 2020 Completed, Found 56594 Patients---\n",
      "Dumped JSON\n"
     ]
    }
   ],
   "source": [
    "# Generate initial json\n",
    "data_fp = img_fp\n",
    "json_output = []\n",
    "save_json_fp = '/home/llm-hackathon/LLaVA/raymond/030424patient_finding_impression.json'\n",
    "question = '\\nBased on AUTHOR and CLINICAL HISTORY, suppose you were a radiologist on X-RAY,  could you provide a detailed report from this chest X-ray?'\n",
    "# question = '\\nBased on AUTHOR and CLINICAL HISTORY information, suppose you were the named specialist AUTHOR, provide me a detailed report reading this chest X-ray as closely resembling the style of this AUTHOR as possible.'\n",
    "#question = 'Write a report for the given chest x-ray. It should contain a clear findings and impression section.  Be explicit for any abnormalities or normal findings.'\n",
    "c_t2020 = 0\n",
    "c_a2020 = 0\n",
    "i = 0\n",
    "j = 0\n",
    "k = 0\n",
    "train_set = set(train_accn)\n",
    "\n",
    "for img_id in tqdm(img_ids):\n",
    "    img_acc_id = str(re.search(r'[0-9]+', img_id)[0])\n",
    "    patient_id = img_id.split('.')[0]\n",
    "    if img_acc_id in t2020.index and img_acc_id in train_set:\n",
    "        c_t2020 += 1\n",
    "        prompt = t2020.loc[img_acc_id, 'prompt'] + question\n",
    "        answer = t2020.loc[img_acc_id, 'answer']\n",
    "\n",
    "    elif img_acc_id in a2020.index and img_acc_id in train_set:\n",
    "        c_a2020 += 1\n",
    "        prompt = a2020.loc[img_acc_id, 'prompt'] + question\n",
    "        answer = a2020.loc[img_acc_id, 'answer']\n",
    "    else:\n",
    "        continue\n",
    "\n",
    "    patient_data = {\n",
    "        \"id\": patient_id,\n",
    "        \"image\": data_fp + img_id,\n",
    "        \"conversations\": [\n",
    "            {\n",
    "                \"from\": \"human\",\n",
    "                \"value\": f\"{prompt}\"\n",
    "            },\n",
    "            {\n",
    "                \"from\": \"gpt\",\n",
    "                \"value\": f\"{answer}\"\n",
    "\n",
    "            }\n",
    "\n",
    "        ]\n",
    "    }\n",
    "    json_output.append(patient_data)\n",
    "print(f'---Through 2020 Completed, Found {c_t2020} Patients---')\n",
    "print(f'---After 2020 Completed, Found {c_a2020} Patients---')\n",
    "\n",
    "\n",
    "with open(save_json_fp, 'w') as f:\n",
    "    json.dump(json_output, f, indent=4)\n",
    "\n",
    "print('Dumped JSON')"
   ]
  },
  {
   "cell_type": "code",
   "execution_count": 42,
   "metadata": {},
   "outputs": [
    {
     "ename": "NameError",
     "evalue": "name 'test_set' is not defined",
     "output_type": "error",
     "traceback": [
      "\u001b[0;31m---------------------------------------------------------------------------\u001b[0m",
      "\u001b[0;31mNameError\u001b[0m                                 Traceback (most recent call last)",
      "Cell \u001b[0;32mIn[42], line 1\u001b[0m\n\u001b[0;32m----> 1\u001b[0m \u001b[38;5;28mlen\u001b[39m(\u001b[43mtest_set\u001b[49m\u001b[38;5;241m.\u001b[39mintersection(\u001b[38;5;28mset\u001b[39m([\u001b[38;5;28mstr\u001b[39m(\u001b[38;5;28mid\u001b[39m) \u001b[38;5;28;01mfor\u001b[39;00m \u001b[38;5;28mid\u001b[39m \u001b[38;5;129;01min\u001b[39;00m img_acc_ids])))\n",
      "\u001b[0;31mNameError\u001b[0m: name 'test_set' is not defined"
     ]
    }
   ],
   "source": [
    "# len(test_set.intersection(set([str(id) for id in img_acc_ids])))"
   ]
  },
  {
   "cell_type": "code",
   "execution_count": 43,
   "metadata": {},
   "outputs": [
    {
     "name": "stderr",
     "output_type": "stream",
     "text": [
      "100%|██████████| 112839/112839 [00:00<00:00, 378231.19it/s]"
     ]
    },
    {
     "name": "stdout",
     "output_type": "stream",
     "text": [
      "Dumped JSON\n"
     ]
    },
    {
     "name": "stderr",
     "output_type": "stream",
     "text": [
      "\n"
     ]
    },
    {
     "data": {
      "text/plain": [
       "(859, 1229)"
      ]
     },
     "execution_count": 43,
     "metadata": {},
     "output_type": "execute_result"
    }
   ],
   "source": [
    "# Generate questions file.\n",
    "data_fp = img_fp\n",
    "save_json_fp = '/home/llm-hackathon/LLaVA/raymond/030424_test_patient_finding_impression.jsonl'\n",
    "test_set = set(test_accn)\n",
    "#question = '\\nBased on AUTHOR and CLINICAL HISTORY, suppose you were a radiologist on X-RAY,  could you provide a detailed report from this chest X-ray?\\nAlso, identify from the following list of conditions--[Edema, Pneumonia, Pneumothorax, Atelectasis, Lung Lesion, Consolidation, Cardiomegaly, Pleural Effusion, Enlarged Cardiom, Lung Opacity]--and tell me which one(s) this X-ray shows.'\n",
    "#question = '\\nBased on AUTHOR and CLINICAL HISTORY information, suppose you were the named specialist AUTHOR, provide me a detailed report reading this chest X-ray as closely resembling the style of this AUTHOR as possible.'\n",
    "question = '\\nBased on AUTHOR and CLINICAL HISTORY, suppose you were a radiologist on X-RAY,  could you provide a detailed report from this chest X-ray?'\n",
    "#question = '\\nProvide a detailed report given the chest X-RAY. Do not compare with prior X-RAY, only describe what you see in the given xray.'\n",
    "#question = 'Write a report for the given chest x-ray. It should contain a clear findings and impression section.  Be explicit for any abnormalities or normal findings.'\n",
    "c_t2020 = 0\n",
    "c_a2020 = 0\n",
    "with open(save_json_fp, 'w') as f:\n",
    "\n",
    "    for img_id in tqdm(img_ids):\n",
    "        img_acc_id = str(re.search(r'[0-9]+', img_id)[0])\n",
    "        patient_id = img_id.split('.')[0]\n",
    "        if img_acc_id in t2020.index and img_acc_id in test_set:\n",
    "            c_t2020 += 1\n",
    "            prompt = t2020.loc[img_acc_id, 'prompt'] + question\n",
    "        elif img_acc_id in a2020.index and img_acc_id in test_set:\n",
    "            c_a2020 += 1\n",
    "            prompt = a2020.loc[img_acc_id, 'prompt'] + question\n",
    "        else:\n",
    "            continue\n",
    "        patient_data = {\n",
    "            \"question_id\": patient_id,\n",
    "            \"image\": data_fp + img_id,\n",
    "            \"text\": f\"{prompt}\",\n",
    "            \"category\": \"\",\n",
    "        }\n",
    "        f.write(json.dumps(patient_data) + \"\\n\")\n",
    "\n",
    "\n",
    "print('Dumped JSON')\n",
    "c_t2020, c_a2020"
   ]
  },
  {
   "cell_type": "code",
   "execution_count": 44,
   "metadata": {},
   "outputs": [],
   "source": [
    "#  CREATE CSV WITH ANSWERS FOR TEST SET\n",
    "test_set = set(test_accn)\n",
    "intersection_a2020 = a2020.index.intersection(test_set)\n",
    "intersection_t2020 = t2020.index.intersection(test_set)"
   ]
  },
  {
   "cell_type": "code",
   "execution_count": 45,
   "metadata": {},
   "outputs": [],
   "source": [
    "pd.concat([a2020.loc[intersection_a2020], t2020.loc[intersection_t2020]]).to_csv('./030424_test_patient_finding_impression_answers.csv')"
   ]
  }
 ],
 "metadata": {
  "kernelspec": {
   "display_name": "datalite_env",
   "language": "python",
   "name": "python3"
  },
  "language_info": {
   "codemirror_mode": {
    "name": "ipython",
    "version": 3
   },
   "file_extension": ".py",
   "mimetype": "text/x-python",
   "name": "python",
   "nbconvert_exporter": "python",
   "pygments_lexer": "ipython3",
   "version": "3.10.13"
  },
  "vscode": {
   "interpreter": {
    "hash": "1e2aac413067c67fe83fdcb656a7403f13c3bbd115ee7f918faf6e0b97136a50"
   }
  }
 },
 "nbformat": 4,
 "nbformat_minor": 2
}
