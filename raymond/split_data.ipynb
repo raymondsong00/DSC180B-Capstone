{
 "cells": [
  {
   "cell_type": "code",
   "execution_count": 1,
   "metadata": {},
   "outputs": [],
   "source": [
    "import pandas as pd\n",
    "import numpy as np\n",
    "from glob import glob\n",
    "import re"
   ]
  },
  {
   "cell_type": "code",
   "execution_count": 2,
   "metadata": {},
   "outputs": [],
   "source": [
    "fakeid_accn = pd.read_csv(\"/data/UCSD_cxr/falseids-accn.csv\").drop_duplicates()"
   ]
  },
  {
   "cell_type": "code",
   "execution_count": 3,
   "metadata": {},
   "outputs": [],
   "source": [
    "# Get unique patients\n",
    "unq_fakeid = fakeid_accn['FalseID'].unique()\n",
    "num_unq_fake = unq_fakeid.size\n",
    "np.random.seed(1)"
   ]
  },
  {
   "cell_type": "code",
   "execution_count": 4,
   "metadata": {},
   "outputs": [],
   "source": [
    "# Split dataset\n",
    "shuffled_ids = np.random.choice(unq_fakeid, size=num_unq_fake, replace=False)\n",
    "train_size = 0.98\n",
    "split = int(train_size*num_unq_fake)\n",
    "train = shuffled_ids[:split]\n",
    "test = shuffled_ids[split:]"
   ]
  },
  {
   "cell_type": "code",
   "execution_count": 5,
   "metadata": {},
   "outputs": [],
   "source": [
    "train_accn = fakeid_accn[fakeid_accn['FalseID'].isin(train)]\n",
    "test_accn = fakeid_accn[fakeid_accn['FalseID'].isin(test)]\n",
    "train_accn.to_csv('/data/UCSD_cxr/train_accn.csv')\n",
    "test_accn.to_csv('/data/UCSD_cxr/test_accn.csv')"
   ]
  },
  {
   "cell_type": "code",
   "execution_count": 6,
   "metadata": {},
   "outputs": [
    {
     "data": {
      "text/plain": [
       "True"
      ]
     },
     "execution_count": 6,
     "metadata": {},
     "output_type": "execute_result"
    }
   ],
   "source": [
    "fakeid_accn.drop_duplicates().shape[0] == (train_accn.shape[0] + test_accn.shape[0])"
   ]
  },
  {
   "cell_type": "code",
   "execution_count": 7,
   "metadata": {},
   "outputs": [
    {
     "name": "stderr",
     "output_type": "stream",
     "text": [
      "/tmp/ipykernel_308396/215930045.py:1: DtypeWarning: Columns (0,1,2,3,4) have mixed types. Specify dtype option on import or set low_memory=False.\n",
      "  rep_t2020 = pd.read_csv('/data/UCSD_cxr/all-reports-available-xrays-through2020.csv').dropna().drop_duplicates()\n"
     ]
    }
   ],
   "source": [
    "rep_t2020 = pd.read_csv('/data/UCSD_cxr/all-reports-available-xrays-through2020.csv').dropna().drop_duplicates()\n",
    "rep_a2020 = pd.read_csv('/data/UCSD_cxr/all-reports-available-xrays-after2020.csv').dropna().drop_duplicates()\n",
    "rep_a2020['AccessionId'] = rep_a2020['AccessionId'].map(str)"
   ]
  },
  {
   "cell_type": "code",
   "execution_count": 8,
   "metadata": {},
   "outputs": [],
   "source": [
    "train_rep_t2020 = train_accn.merge(rep_t2020, left_on=\"Accession\", right_on=\"AccessionId\")"
   ]
  },
  {
   "cell_type": "code",
   "execution_count": 21,
   "metadata": {},
   "outputs": [
    {
     "data": {
      "text/html": [
       "<div>\n",
       "<style scoped>\n",
       "    .dataframe tbody tr th:only-of-type {\n",
       "        vertical-align: middle;\n",
       "    }\n",
       "\n",
       "    .dataframe tbody tr th {\n",
       "        vertical-align: top;\n",
       "    }\n",
       "\n",
       "    .dataframe thead th {\n",
       "        text-align: right;\n",
       "    }\n",
       "</style>\n",
       "<table border=\"1\" class=\"dataframe\">\n",
       "  <thead>\n",
       "    <tr style=\"text-align: right;\">\n",
       "      <th></th>\n",
       "      <th>FalseID</th>\n",
       "      <th>Accession</th>\n",
       "    </tr>\n",
       "  </thead>\n",
       "  <tbody>\n",
       "    <tr>\n",
       "      <th>93</th>\n",
       "      <td>28369992</td>\n",
       "      <td>53321530</td>\n",
       "    </tr>\n",
       "    <tr>\n",
       "      <th>96</th>\n",
       "      <td>28422472</td>\n",
       "      <td>50388616</td>\n",
       "    </tr>\n",
       "    <tr>\n",
       "      <th>98</th>\n",
       "      <td>28447808</td>\n",
       "      <td>54129354</td>\n",
       "    </tr>\n",
       "    <tr>\n",
       "      <th>99</th>\n",
       "      <td>28447808</td>\n",
       "      <td>50001322</td>\n",
       "    </tr>\n",
       "    <tr>\n",
       "      <th>100</th>\n",
       "      <td>28447808</td>\n",
       "      <td>52403905</td>\n",
       "    </tr>\n",
       "    <tr>\n",
       "      <th>...</th>\n",
       "      <td>...</td>\n",
       "      <td>...</td>\n",
       "    </tr>\n",
       "    <tr>\n",
       "      <th>188008</th>\n",
       "      <td>258673824</td>\n",
       "      <td>56932992</td>\n",
       "    </tr>\n",
       "    <tr>\n",
       "      <th>188095</th>\n",
       "      <td>426514600</td>\n",
       "      <td>52483773</td>\n",
       "    </tr>\n",
       "    <tr>\n",
       "      <th>188096</th>\n",
       "      <td>426533176</td>\n",
       "      <td>53517031</td>\n",
       "    </tr>\n",
       "    <tr>\n",
       "      <th>188149</th>\n",
       "      <td>472099952</td>\n",
       "      <td>54323529</td>\n",
       "    </tr>\n",
       "    <tr>\n",
       "      <th>188155</th>\n",
       "      <td>472104872</td>\n",
       "      <td>54259211</td>\n",
       "    </tr>\n",
       "  </tbody>\n",
       "</table>\n",
       "<p>3819 rows × 2 columns</p>\n",
       "</div>"
      ],
      "text/plain": [
       "          FalseID Accession\n",
       "93       28369992  53321530\n",
       "96       28422472  50388616\n",
       "98       28447808  54129354\n",
       "99       28447808  50001322\n",
       "100      28447808  52403905\n",
       "...           ...       ...\n",
       "188008  258673824  56932992\n",
       "188095  426514600  52483773\n",
       "188096  426533176  53517031\n",
       "188149  472099952  54323529\n",
       "188155  472104872  54259211\n",
       "\n",
       "[3819 rows x 2 columns]"
      ]
     },
     "execution_count": 21,
     "metadata": {},
     "output_type": "execute_result"
    }
   ],
   "source": [
    "test_accn"
   ]
  },
  {
   "cell_type": "code",
   "execution_count": 9,
   "metadata": {},
   "outputs": [],
   "source": [
    "test_rep_t2020 = test_accn.merge(rep_t2020, left_on=\"Accession\", right_on=\"AccessionId\")"
   ]
  },
  {
   "cell_type": "code",
   "execution_count": 10,
   "metadata": {},
   "outputs": [],
   "source": [
    "train_rep_a2020 = train_accn.merge(rep_a2020, left_on=\"Accession\", right_on=\"AccessionId\")"
   ]
  },
  {
   "cell_type": "code",
   "execution_count": 11,
   "metadata": {},
   "outputs": [],
   "source": [
    "test_rep_a2020 = test_accn.merge(rep_a2020, left_on=\"Accession\", right_on=\"AccessionId\")"
   ]
  },
  {
   "cell_type": "code",
   "execution_count": 12,
   "metadata": {},
   "outputs": [],
   "source": [
    "img_fp = '/data/UCSD_cxr/jpg/'\n",
    "img_ids = glob('*.jpg', root_dir=img_fp)\n",
    "img_ids.sort()\n",
    "img_acc_ids = [int(re.search(r'[0-9]+',img_id)[0]) for img_id in img_ids]"
   ]
  },
  {
   "cell_type": "code",
   "execution_count": 13,
   "metadata": {},
   "outputs": [],
   "source": [
    "acc_t2020 = rep_t2020[~rep_t2020['AccessionId'].str.contains('O')]"
   ]
  },
  {
   "cell_type": "code",
   "execution_count": 14,
   "metadata": {},
   "outputs": [
    {
     "name": "stdout",
     "output_type": "stream",
     "text": [
      "# Img Acc Ids: 112839, # ids thru 2020: 99536, # ids after 2020: 88852, # img in thru 2020: 44193, # img in after 2020: 61930\n"
     ]
    }
   ],
   "source": [
    "print('# Img Acc Ids: {}, # ids thru 2020: {}, # ids after 2020: {}, # img in thru 2020: {}, # img in after 2020: {}'.format( \\\n",
    "len(img_acc_ids), len(rep_t2020), len(rep_a2020), len(set(acc_t2020['AccessionId'].astype(int)).intersection(set(img_acc_ids))), len(set(rep_a2020['AccessionId'].astype(int)).intersection(set(img_acc_ids)))))"
   ]
  },
  {
   "cell_type": "code",
   "execution_count": 15,
   "metadata": {},
   "outputs": [],
   "source": [
    "jpgs = glob('*.jpg', root_dir=\"/data/UCSD_cxr/jpg\")"
   ]
  },
  {
   "cell_type": "code",
   "execution_count": 16,
   "metadata": {},
   "outputs": [],
   "source": [
    "accn_ids = pd.Series([jpg.split('_')[1][:-4] for jpg in jpgs], name='accn_ids')"
   ]
  },
  {
   "cell_type": "code",
   "execution_count": 17,
   "metadata": {},
   "outputs": [
    {
     "data": {
      "text/plain": [
       "60762"
      ]
     },
     "execution_count": 17,
     "metadata": {},
     "output_type": "execute_result"
    }
   ],
   "source": [
    "train_rep_a2020.merge(accn_ids, left_on='Accession', right_on='accn_ids').shape[0]"
   ]
  },
  {
   "cell_type": "code",
   "execution_count": 18,
   "metadata": {},
   "outputs": [
    {
     "data": {
      "text/plain": [
       "43263"
      ]
     },
     "execution_count": 18,
     "metadata": {},
     "output_type": "execute_result"
    }
   ],
   "source": [
    "train_rep_t2020.merge(accn_ids, left_on='Accession', right_on='accn_ids').shape[0]"
   ]
  }
 ],
 "metadata": {
  "kernelspec": {
   "display_name": "Python 3 (ipykernel)",
   "language": "python",
   "name": "python3"
  },
  "language_info": {
   "codemirror_mode": {
    "name": "ipython",
    "version": 3
   },
   "file_extension": ".py",
   "mimetype": "text/x-python",
   "name": "python",
   "nbconvert_exporter": "python",
   "pygments_lexer": "ipython3",
   "version": "3.10.13"
  }
 },
 "nbformat": 4,
 "nbformat_minor": 2
}
