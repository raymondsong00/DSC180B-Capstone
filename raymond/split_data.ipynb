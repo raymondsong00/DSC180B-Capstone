{
 "cells": [
  {
   "cell_type": "code",
   "execution_count": 1,
   "metadata": {},
   "outputs": [],
   "source": [
    "import pandas as pd\n",
    "import numpy as np\n",
    "from glob import glob\n",
    "import re"
   ]
  },
  {
   "cell_type": "code",
   "execution_count": 2,
   "metadata": {},
   "outputs": [],
   "source": [
    "fakeid_accn = pd.read_csv(\"/data/UCSD_cxr/falseids-accn.csv\").drop_duplicates()"
   ]
  },
  {
   "cell_type": "code",
   "execution_count": 3,
   "metadata": {},
   "outputs": [],
   "source": [
    "# Get unique patients\n",
    "unq_fakeid = fakeid_accn['FalseID'].unique()\n",
    "num_unq_fake = unq_fakeid.size\n",
    "np.random.seed(1)"
   ]
  },
  {
   "cell_type": "code",
   "execution_count": 4,
   "metadata": {},
   "outputs": [],
   "source": [
    "# Split dataset\n",
    "shuffled_ids = np.random.choice(unq_fakeid, size=num_unq_fake, replace=False)\n",
    "train_size = 0.98\n",
    "split = int(train_size*num_unq_fake)\n",
    "train = shuffled_ids[:split]\n",
    "test = shuffled_ids[split:]"
   ]
  },
  {
   "cell_type": "code",
   "execution_count": 5,
   "metadata": {},
   "outputs": [],
   "source": [
    "train_accn = fakeid_accn[fakeid_accn['FalseID'].isin(train)]\n",
    "test_accn = fakeid_accn[fakeid_accn['FalseID'].isin(test)]\n",
    "train_accn.to_csv('/data/UCSD_cxr/train_accn.csv')\n",
    "test_accn.to_csv('/data/UCSD_cxr/test_accn.csv')"
   ]
  }
 ],
 "metadata": {
  "kernelspec": {
   "display_name": "Python 3 (ipykernel)",
   "language": "python",
   "name": "python3"
  },
  "language_info": {
   "codemirror_mode": {
    "name": "ipython",
    "version": 3
   },
   "file_extension": ".py",
   "mimetype": "text/x-python",
   "name": "python",
   "nbconvert_exporter": "python",
   "pygments_lexer": "ipython3",
   "version": "3.10.13"
  }
 },
 "nbformat": 4,
 "nbformat_minor": 2
}
